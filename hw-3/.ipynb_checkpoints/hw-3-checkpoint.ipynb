{
 "cells": [
  {
   "cell_type": "code",
   "execution_count": 173,
   "id": "db6c9794-5c04-4fa8-b69e-39030af00b94",
   "metadata": {},
   "outputs": [],
   "source": [
    "import pandas as pd\n",
    "import numpy as np\n",
    "import re\n",
    "\n",
    "import pandas as pd\n",
    "from sklearn.model_selection import train_test_split\n",
    "from sklearn.preprocessing import StandardScaler, OneHotEncoder\n",
    "from sklearn.compose import ColumnTransformer\n",
    "from sklearn.linear_model import LinearRegression\n",
    "from sklearn.metrics import mean_squared_error"
   ]
  },
  {
   "cell_type": "code",
   "execution_count": 174,
   "id": "0b154fea-7714-42f4-a869-c9a484adfa6a",
   "metadata": {},
   "outputs": [],
   "source": [
    "def hypothesis(theta_0, theta_1, x):\n",
    "    return theta_0 + np.dot(x, theta_1)"
   ]
  },
  {
   "cell_type": "code",
   "execution_count": 175,
   "id": "641d06f8-8263-46af-af87-f33573ddba0f",
   "metadata": {},
   "outputs": [],
   "source": [
    "def compute_cost(theta_0, theta_1, x, y):\n",
    "    m = len(y)\n",
    "    predictions = hypothesis(theta_0, theta_1, x)\n",
    "    sq_error = (predictions - y) ** 2\n",
    "    cost = 1 / (2 * m) * np.sum(sq_error)\n",
    "    return cost"
   ]
  },
  {
   "cell_type": "code",
   "execution_count": 176,
   "id": "1261924d-6248-4b7a-8664-1ca4ee4060bb",
   "metadata": {},
   "outputs": [],
   "source": [
    "def gradient_descent(x, y, theta_0, theta_1, learning_rate, iterations):\n",
    "    m = len(y)\n",
    "    for i in range(iterations):\n",
    "        predictions = hypothesis(theta_0, theta_1, x)\n",
    "        error = predictions - y\n",
    "    \n",
    "        gradient_theta_0 = (1 / m) * np.sum(error)\n",
    "        gradient_theta_1 = (1 / m) * np.dot(x.T, error)\n",
    "        gradient_theta_1 = gradient_theta_1.reshape(-1, 1)\n",
    "\n",
    "        \n",
    "        theta_0 -= learning_rate * gradient_theta_0\n",
    "        theta_1 -= learning_rate * gradient_theta_1[:theta_1.shape[0]]\n",
    "        \n",
    "        cost = compute_cost(theta_0, theta_1, x, y)\n",
    "        if i % 100 == 0:\n",
    "            print(f\"Iteration {i}, Cost: {cost}\")\n",
    "\n",
    "        \n",
    "    return theta_0, theta_1"
   ]
  },
  {
   "cell_type": "code",
   "execution_count": 177,
   "id": "7a7c1fbb-1202-4138-8d58-d05a8d4067b4",
   "metadata": {},
   "outputs": [
    {
     "name": "stdout",
     "output_type": "stream",
     "text": [
      "Початкові дані: \n",
      "         price  area  bedrooms  bathrooms  stories mainroad guestroom basement  \\\n",
      "0    13300000  7420         4          2        3      yes        no       no   \n",
      "1    12250000  8960         4          4        4      yes        no       no   \n",
      "2    12250000  9960         3          2        2      yes        no      yes   \n",
      "3    12215000  7500         4          2        2      yes        no      yes   \n",
      "4    11410000  7420         4          1        2      yes       yes      yes   \n",
      "..        ...   ...       ...        ...      ...      ...       ...      ...   \n",
      "540   1820000  3000         2          1        1      yes        no      yes   \n",
      "541   1767150  2400         3          1        1       no        no       no   \n",
      "542   1750000  3620         2          1        1      yes        no       no   \n",
      "543   1750000  2910         3          1        1       no        no       no   \n",
      "544   1750000  3850         3          1        2      yes        no       no   \n",
      "\n",
      "    hotwaterheating airconditioning  parking prefarea furnishingstatus  \n",
      "0                no             yes        2      yes        furnished  \n",
      "1                no             yes        3       no        furnished  \n",
      "2                no              no        2      yes   semi-furnished  \n",
      "3                no             yes        3      yes        furnished  \n",
      "4                no             yes        2       no        furnished  \n",
      "..              ...             ...      ...      ...              ...  \n",
      "540              no              no        2       no      unfurnished  \n",
      "541              no              no        0       no   semi-furnished  \n",
      "542              no              no        0       no      unfurnished  \n",
      "543              no              no        0       no        furnished  \n",
      "544              no              no        0       no      unfurnished  \n",
      "\n",
      "[545 rows x 13 columns]\n"
     ]
    }
   ],
   "source": [
    "file = 'Housing.csv'\n",
    "data = pd.read_csv(file)\n",
    "print('Початкові дані: \\n', data)"
   ]
  },
  {
   "cell_type": "code",
   "execution_count": 178,
   "id": "ce7fc57f-1f28-49cd-bcb0-24aff4004b7e",
   "metadata": {},
   "outputs": [],
   "source": [
    "X = data[['area', 'bedrooms', 'bathrooms']].values\n",
    "y = data['price'].values\n",
    "scaler = StandardScaler()\n",
    "X = scaler.fit_transform(X)\n",
    "X = np.c_[np.ones(X.shape[0]), X]"
   ]
  },
  {
   "cell_type": "code",
   "execution_count": 179,
   "id": "514603e2-a7e2-4107-8a5d-72226765d72b",
   "metadata": {},
   "outputs": [
    {
     "name": "stdout",
     "output_type": "stream",
     "text": [
      "Iteration 0, Cost: 2217941954977539.0\n",
      "Iteration 100, Cost: 1653594395452452.5\n",
      "Iteration 200, Cost: 3699920194952567.5\n",
      "Iteration 300, Cost: 7090966049363225.0\n",
      "Iteration 400, Cost: 1.1826731958684304e+16\n",
      "Iteration 500, Cost: 1.7907217922915868e+16\n",
      "Iteration 600, Cost: 2.533242394205811e+16\n",
      "Iteration 700, Cost: 3.4102350016111276e+16\n",
      "Iteration 800, Cost: 4.4216996145075096e+16\n",
      "Iteration 900, Cost: 5.567636232894957e+16\n",
      "Оптимальні параметри: theta_0 = -3744042.9999061716, theta_1 = [[8526400.94862412]\n",
      " [7476400.94862411]\n",
      " [7476400.94862411]\n",
      " [7441400.94862411]]\n"
     ]
    }
   ],
   "source": [
    "theta_0 = 0\n",
    "theta_1 = np.zeros((X.shape[1], 1))\n",
    "\n",
    "learning_rate = 0.001\n",
    "iterations = 1000\n",
    "\n",
    "theta_0, theta_1 = gradient_descent(X, y, theta_0, theta_1, learning_rate, iterations)\n",
    "print(f\"Оптимальні параметри: theta_0 = {theta_0}, theta_1 = {theta_1}\")"
   ]
  }
 ],
 "metadata": {
  "kernelspec": {
   "display_name": "Python 3 (ipykernel)",
   "language": "python",
   "name": "python3"
  },
  "language_info": {
   "codemirror_mode": {
    "name": "ipython",
    "version": 3
   },
   "file_extension": ".py",
   "mimetype": "text/x-python",
   "name": "python",
   "nbconvert_exporter": "python",
   "pygments_lexer": "ipython3",
   "version": "3.10.8"
  }
 },
 "nbformat": 4,
 "nbformat_minor": 5
}
