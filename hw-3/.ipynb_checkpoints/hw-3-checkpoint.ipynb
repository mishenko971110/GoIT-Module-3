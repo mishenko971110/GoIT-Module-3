{
 "cells": [
  {
   "cell_type": "code",
   "execution_count": 104,
   "id": "db6c9794-5c04-4fa8-b69e-39030af00b94",
   "metadata": {},
   "outputs": [],
   "source": [
    "import pandas as pd\n",
    "import numpy as np\n",
    "import re\n",
    "import pandas as pd\n",
    "from sklearn.preprocessing import StandardScaler"
   ]
  },
  {
   "cell_type": "code",
   "execution_count": 105,
   "id": "0b154fea-7714-42f4-a869-c9a484adfa6a",
   "metadata": {},
   "outputs": [],
   "source": [
    "def hypothesis(theta_0, theta_1, x):\n",
    "    return theta_0 + np.dot(x, theta_1)"
   ]
  },
  {
   "cell_type": "code",
   "execution_count": 106,
   "id": "641d06f8-8263-46af-af87-f33573ddba0f",
   "metadata": {},
   "outputs": [],
   "source": [
    "def compute_cost(theta_0, theta_1, x, y):\n",
    "    m = len(y)\n",
    "    predictions = hypothesis(theta_0, theta_1, x)\n",
    "    sq_error = (predictions - y) ** 2\n",
    "    cost = 1 / (2 * m) * np.sum(sq_error)\n",
    "    return cost"
   ]
  },
  {
   "cell_type": "code",
   "execution_count": 107,
   "id": "1261924d-6248-4b7a-8664-1ca4ee4060bb",
   "metadata": {},
   "outputs": [],
   "source": [
    "def gradient_descent(x, y, theta_0, theta_1, learning_rate, iterations):\n",
    "    m = len(y)\n",
    "    for i in range(iterations):\n",
    "        predictions = hypothesis(theta_0, theta_1, x)\n",
    "        error = predictions - y\n",
    "        gradient_theta_0 = (1 / m) * np.sum(error)\n",
    "        gradient_theta_1 = (1 / m) * np.dot(x.T, error)\n",
    "        gradient_theta_1 = gradient_theta_1.reshape(-1, 1)\n",
    "        theta_0 -= learning_rate * gradient_theta_0\n",
    "        theta_1 -= learning_rate * gradient_theta_1[:theta_1.shape[0]]\n",
    "        cost = compute_cost(theta_0, theta_1, x, y)\n",
    "        if i % 100 == 0:\n",
    "            print(f\"Iteration {i}, Cost: {cost:.4e}\")\n",
    "    return theta_0, theta_1"
   ]
  },
  {
   "cell_type": "code",
   "execution_count": 108,
   "id": "7a7c1fbb-1202-4138-8d58-d05a8d4067b4",
   "metadata": {},
   "outputs": [
    {
     "name": "stdout",
     "output_type": "stream",
     "text": [
      "Початкові дані: \n",
      "         price  area  bedrooms  bathrooms  stories mainroad guestroom basement  \\\n",
      "0    13300000  7420         4          2        3      yes        no       no   \n",
      "1    12250000  8960         4          4        4      yes        no       no   \n",
      "2    12250000  9960         3          2        2      yes        no      yes   \n",
      "3    12215000  7500         4          2        2      yes        no      yes   \n",
      "4    11410000  7420         4          1        2      yes       yes      yes   \n",
      "..        ...   ...       ...        ...      ...      ...       ...      ...   \n",
      "540   1820000  3000         2          1        1      yes        no      yes   \n",
      "541   1767150  2400         3          1        1       no        no       no   \n",
      "542   1750000  3620         2          1        1      yes        no       no   \n",
      "543   1750000  2910         3          1        1       no        no       no   \n",
      "544   1750000  3850         3          1        2      yes        no       no   \n",
      "\n",
      "    hotwaterheating airconditioning  parking prefarea furnishingstatus  \n",
      "0                no             yes        2      yes        furnished  \n",
      "1                no             yes        3       no        furnished  \n",
      "2                no              no        2      yes   semi-furnished  \n",
      "3                no             yes        3      yes        furnished  \n",
      "4                no             yes        2       no        furnished  \n",
      "..              ...             ...      ...      ...              ...  \n",
      "540              no              no        2       no      unfurnished  \n",
      "541              no              no        0       no   semi-furnished  \n",
      "542              no              no        0       no      unfurnished  \n",
      "543              no              no        0       no        furnished  \n",
      "544              no              no        0       no      unfurnished  \n",
      "\n",
      "[545 rows x 13 columns]\n"
     ]
    }
   ],
   "source": [
    "file = 'Housing.csv'\n",
    "data = pd.read_csv(file)\n",
    "print('Початкові дані: \\n', data)"
   ]
  },
  {
   "cell_type": "code",
   "execution_count": 109,
   "id": "ce7fc57f-1f28-49cd-bcb0-24aff4004b7e",
   "metadata": {},
   "outputs": [],
   "source": [
    "X = data[['area', 'bedrooms', 'bathrooms']].values\n",
    "y = data['price'].values\n",
    "scaler = StandardScaler()\n",
    "X = scaler.fit_transform(X)\n",
    "X = np.c_[np.ones(X.shape[0]), X]"
   ]
  },
  {
   "cell_type": "code",
   "execution_count": 110,
   "id": "514603e2-a7e2-4107-8a5d-72226765d72b",
   "metadata": {},
   "outputs": [
    {
     "name": "stdout",
     "output_type": "stream",
     "text": [
      "Iteration 0, Cost: 2.2179e+15\n",
      "Оптимальні параметри:\n",
      "[[4.3464e+05]\n",
      " [3.8214e+05]\n",
      " [3.8214e+05]\n",
      " [3.8039e+05]]\n"
     ]
    }
   ],
   "source": [
    "theta_0 = 0\n",
    "theta_1 = np.zeros((X.shape[1], 1))\n",
    "\n",
    "learning_rate = 0.001\n",
    "iterations = 50\n",
    "\n",
    "theta_0, theta_1 = gradient_descent(X, y, theta_0, theta_1, learning_rate, iterations)\n",
    "formatted_parameters = np.array2string(theta_1, formatter={'float_kind': '{:.4e}'.format})\n",
    "print(f\"Оптимальні параметри:\\n{formatted_parameters}\")"
   ]
  },
  {
   "cell_type": "code",
   "execution_count": 111,
   "id": "1adcc087-a908-4d96-88a3-bfecf47c7861",
   "metadata": {},
   "outputs": [
    {
     "name": "stdout",
     "output_type": "stream",
     "text": [
      "Аналітичний розрахунок\n",
      "Оптимальні параметри:\n",
      "[-1.7317e+05 3.7876e+02 4.0682e+05 1.3860e+06]\n"
     ]
    }
   ],
   "source": [
    "print('Аналітичний розрахунок')\n",
    "X = data[['area', 'bedrooms', 'bathrooms']].values\n",
    "y = data['price'].values\n",
    "\n",
    "X_with_bias = np.c_[np.ones(X.shape[0]), X]\n",
    "\n",
    "XTX = np.dot(X_with_bias.T, X_with_bias)\n",
    "XTX_inverse = np.linalg.inv(XTX)\n",
    "XTy = np.dot(X_with_bias.T, y)\n",
    "w = np.dot(XTX_inverse, XTy)\n",
    "\n",
    "formatted_parameters = np.array2string(w, formatter={'float_kind': '{:.4e}'.format})\n",
    "print(f\"Оптимальні параметри:\\n{formatted_parameters}\")"
   ]
  },
  {
   "cell_type": "code",
   "execution_count": 112,
   "id": "ed296a25-f820-4b1f-99a0-5aa6af08df2a",
   "metadata": {},
   "outputs": [
    {
     "name": "stdout",
     "output_type": "stream",
     "text": [
      "Оптимальні параметри:\n",
      "[-1.7317e+05 3.7876e+02 1.3860e+06 4.0682e+05]\n"
     ]
    }
   ],
   "source": [
    "prices = data['price']\n",
    "areas = data['area']\n",
    "bedrooms = data['bedrooms']\n",
    "bathrooms = data['bathrooms']\n",
    "\n",
    "X = np.array([areas, bathrooms, bedrooms]).T\n",
    "y = np.array(prices)\n",
    "\n",
    "X_with_intercept = np.c_[np.ones(X.shape[0]), X]\n",
    "\n",
    "w = np.linalg.inv(X_with_intercept.T.dot(X_with_intercept)).dot(X_with_intercept.T).dot(y)\n",
    "\n",
    "formatted_parameters = np.array2string(w, formatter={'float_kind': '{:.4e}'.format})\n",
    "print(f\"Оптимальні параметри:\\n{formatted_parameters}\")"
   ]
  }
 ],
 "metadata": {
  "kernelspec": {
   "display_name": "Python 3 (ipykernel)",
   "language": "python",
   "name": "python3"
  },
  "language_info": {
   "codemirror_mode": {
    "name": "ipython",
    "version": 3
   },
   "file_extension": ".py",
   "mimetype": "text/x-python",
   "name": "python",
   "nbconvert_exporter": "python",
   "pygments_lexer": "ipython3",
   "version": "3.10.8"
  }
 },
 "nbformat": 4,
 "nbformat_minor": 5
}
