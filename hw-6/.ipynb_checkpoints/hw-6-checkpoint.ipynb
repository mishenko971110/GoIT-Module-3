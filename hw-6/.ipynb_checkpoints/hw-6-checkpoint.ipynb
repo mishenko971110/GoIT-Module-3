{
 "cells": [
  {
   "cell_type": "code",
   "execution_count": null,
   "id": "a24f2253-60e7-42b9-a990-4df5d77a8e5c",
   "metadata": {},
   "outputs": [],
   "source": []
  }
 ],
 "metadata": {
  "kernelspec": {
   "display_name": "Python 3 (ipykernel)",
   "language": "python",
   "name": "python3"
  },
  "language_info": {
   "codemirror_mode": {
    "name": "ipython",
    "version": 3
   },
   "file_extension": ".py",
   "mimetype": "text/x-python",
   "name": "python",
   "nbconvert_exporter": "python",
   "pygments_lexer": "ipython3",
   "version": "3.10.8"
  }
 },
 "nbformat": 4,
 "nbformat_minor": 5
}
