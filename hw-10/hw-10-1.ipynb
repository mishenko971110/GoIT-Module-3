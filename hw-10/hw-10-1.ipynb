{
 "cells": [
  {
   "cell_type": "code",
   "execution_count": 10,
   "id": "86a6aa7e-96d4-4b66-8569-f415dc3ba7b0",
   "metadata": {},
   "outputs": [],
   "source": [
    "import numpy as np\n",
    "from tensorflow.keras.datasets import fashion_mnist\n",
    "from tensorflow.keras.models import Sequential\n",
    "from tensorflow.keras.layers import Conv2D, MaxPooling2D, Flatten, Dense\n",
    "from tensorflow.keras.utils import to_categorical"
   ]
  },
  {
   "cell_type": "code",
   "execution_count": 11,
   "id": "9b7fa21e-eb82-407b-9a3c-8e03bc465abe",
   "metadata": {},
   "outputs": [],
   "source": [
    "(train_images, train_labels), (test_images, test_labels) = fashion_mnist.load_data()\n",
    "class_names = ['Футболка / топ', 'Штани', 'Світшот / кофта', 'Сукня', 'Пальто',\n",
    "               'Сандалі', 'Сорочка', 'Кросівки', 'Сумка', 'Чоботи']\n",
    "train_images = train_images.reshape((60000, 28, 28, 1))\n",
    "train_images = train_images.astype('float32') / 255\n",
    "\n",
    "test_images = test_images.reshape((10000, 28, 28, 1))\n",
    "test_images = test_images.astype('float32') / 255\n",
    "\n",
    "train_labels = to_categorical(train_labels)\n",
    "test_labels = to_categorical(test_labels)"
   ]
  },
  {
   "cell_type": "code",
   "execution_count": 12,
   "id": "63785269-4326-4a13-92ce-a7c4c2cf8aea",
   "metadata": {},
   "outputs": [
    {
     "name": "stdout",
     "output_type": "stream",
     "text": [
      "Model: \"sequential_1\"\n",
      "_________________________________________________________________\n",
      " Layer (type)                Output Shape              Param #   \n",
      "=================================================================\n",
      " conv2d_3 (Conv2D)           (None, 26, 26, 32)        320       \n",
      "                                                                 \n",
      " max_pooling2d_2 (MaxPoolin  (None, 13, 13, 32)        0         \n",
      " g2D)                                                            \n",
      "                                                                 \n",
      " conv2d_4 (Conv2D)           (None, 11, 11, 64)        18496     \n",
      "                                                                 \n",
      " max_pooling2d_3 (MaxPoolin  (None, 5, 5, 64)          0         \n",
      " g2D)                                                            \n",
      "                                                                 \n",
      " conv2d_5 (Conv2D)           (None, 3, 3, 64)          36928     \n",
      "                                                                 \n",
      " flatten_1 (Flatten)         (None, 576)               0         \n",
      "                                                                 \n",
      " dense_2 (Dense)             (None, 64)                36928     \n",
      "                                                                 \n",
      " dense_3 (Dense)             (None, 10)                650       \n",
      "                                                                 \n",
      "=================================================================\n",
      "Total params: 93322 (364.54 KB)\n",
      "Trainable params: 93322 (364.54 KB)\n",
      "Non-trainable params: 0 (0.00 Byte)\n",
      "_________________________________________________________________\n"
     ]
    }
   ],
   "source": [
    "model = Sequential()\n",
    "\n",
    "model.add(Conv2D(32, (3, 3), activation='relu', input_shape=(28, 28, 1)))\n",
    "model.add(MaxPooling2D((2, 2)))\n",
    "model.add(Conv2D(64, (3, 3), activation='relu'))\n",
    "model.add(MaxPooling2D((2, 2)))\n",
    "model.add(Conv2D(64, (3, 3), activation='relu'))\n",
    "model.add(Flatten())\n",
    "model.add(Dense(64, activation='relu'))\n",
    "model.add(Dense(10, activation='softmax'))\n",
    "\n",
    "model.compile(optimizer='adam',\n",
    "              loss='categorical_crossentropy',\n",
    "              metrics=['accuracy'])\n",
    "\n",
    "model.summary()"
   ]
  },
  {
   "cell_type": "code",
   "execution_count": 14,
   "id": "5fa593cb-5649-496d-a996-67d652a2a223",
   "metadata": {},
   "outputs": [
    {
     "name": "stdout",
     "output_type": "stream",
     "text": [
      "Epoch 1/50\n",
      "375/375 [==============================] - 8s 21ms/step - loss: 0.1210 - accuracy: 0.9555 - val_loss: 0.2488 - val_accuracy: 0.9152\n",
      "Epoch 2/50\n",
      "375/375 [==============================] - 8s 21ms/step - loss: 0.1102 - accuracy: 0.9602 - val_loss: 0.2581 - val_accuracy: 0.9140\n",
      "Epoch 3/50\n",
      "375/375 [==============================] - 9s 24ms/step - loss: 0.1030 - accuracy: 0.9624 - val_loss: 0.2647 - val_accuracy: 0.9146\n",
      "Epoch 4/50\n",
      "375/375 [==============================] - 10s 27ms/step - loss: 0.0988 - accuracy: 0.9643 - val_loss: 0.2618 - val_accuracy: 0.9180\n",
      "Epoch 5/50\n",
      "375/375 [==============================] - 10s 25ms/step - loss: 0.0922 - accuracy: 0.9663 - val_loss: 0.2796 - val_accuracy: 0.9164\n",
      "Epoch 6/50\n",
      "375/375 [==============================] - 10s 26ms/step - loss: 0.0858 - accuracy: 0.9681 - val_loss: 0.2915 - val_accuracy: 0.9148\n",
      "Epoch 7/50\n",
      "375/375 [==============================] - 10s 27ms/step - loss: 0.0787 - accuracy: 0.9710 - val_loss: 0.3162 - val_accuracy: 0.9122\n",
      "Epoch 8/50\n",
      "375/375 [==============================] - 10s 26ms/step - loss: 0.0765 - accuracy: 0.9713 - val_loss: 0.3224 - val_accuracy: 0.9120\n",
      "Epoch 9/50\n",
      "375/375 [==============================] - 10s 28ms/step - loss: 0.0690 - accuracy: 0.9741 - val_loss: 0.3318 - val_accuracy: 0.9109\n",
      "Epoch 10/50\n",
      "375/375 [==============================] - 10s 26ms/step - loss: 0.0659 - accuracy: 0.9754 - val_loss: 0.3549 - val_accuracy: 0.9124\n",
      "Epoch 11/50\n",
      "375/375 [==============================] - 10s 26ms/step - loss: 0.0589 - accuracy: 0.9777 - val_loss: 0.3748 - val_accuracy: 0.9104\n",
      "Epoch 12/50\n",
      "375/375 [==============================] - 10s 26ms/step - loss: 0.0539 - accuracy: 0.9796 - val_loss: 0.3772 - val_accuracy: 0.9107\n",
      "Epoch 13/50\n",
      "375/375 [==============================] - 10s 26ms/step - loss: 0.0477 - accuracy: 0.9825 - val_loss: 0.3858 - val_accuracy: 0.9135\n",
      "Epoch 14/50\n",
      "375/375 [==============================] - 10s 26ms/step - loss: 0.0442 - accuracy: 0.9835 - val_loss: 0.3918 - val_accuracy: 0.9092\n",
      "Epoch 15/50\n",
      "375/375 [==============================] - 10s 26ms/step - loss: 0.0432 - accuracy: 0.9840 - val_loss: 0.4442 - val_accuracy: 0.9089\n",
      "Epoch 16/50\n",
      "375/375 [==============================] - 10s 27ms/step - loss: 0.0399 - accuracy: 0.9852 - val_loss: 0.4459 - val_accuracy: 0.9113\n",
      "Epoch 17/50\n",
      "375/375 [==============================] - 10s 27ms/step - loss: 0.0347 - accuracy: 0.9873 - val_loss: 0.4540 - val_accuracy: 0.9120\n",
      "Epoch 18/50\n",
      "375/375 [==============================] - 12s 31ms/step - loss: 0.0340 - accuracy: 0.9876 - val_loss: 0.4654 - val_accuracy: 0.9088\n",
      "Epoch 19/50\n",
      "375/375 [==============================] - 10s 27ms/step - loss: 0.0313 - accuracy: 0.9886 - val_loss: 0.4854 - val_accuracy: 0.9081\n",
      "Epoch 20/50\n",
      "375/375 [==============================] - 11s 29ms/step - loss: 0.0280 - accuracy: 0.9899 - val_loss: 0.5014 - val_accuracy: 0.9105\n",
      "Epoch 21/50\n",
      "375/375 [==============================] - 11s 30ms/step - loss: 0.0305 - accuracy: 0.9893 - val_loss: 0.5368 - val_accuracy: 0.9090\n",
      "Epoch 22/50\n",
      "375/375 [==============================] - 11s 29ms/step - loss: 0.0277 - accuracy: 0.9898 - val_loss: 0.5689 - val_accuracy: 0.9096\n",
      "Epoch 23/50\n",
      "375/375 [==============================] - 10s 26ms/step - loss: 0.0322 - accuracy: 0.9883 - val_loss: 0.5596 - val_accuracy: 0.9100\n",
      "Epoch 24/50\n",
      "375/375 [==============================] - 9s 24ms/step - loss: 0.0265 - accuracy: 0.9905 - val_loss: 0.5670 - val_accuracy: 0.9070\n",
      "Epoch 25/50\n",
      "375/375 [==============================] - 11s 30ms/step - loss: 0.0243 - accuracy: 0.9909 - val_loss: 0.5871 - val_accuracy: 0.9107\n",
      "Epoch 26/50\n",
      "375/375 [==============================] - 10s 26ms/step - loss: 0.0238 - accuracy: 0.9909 - val_loss: 0.6101 - val_accuracy: 0.9049\n",
      "Epoch 27/50\n",
      "375/375 [==============================] - 10s 25ms/step - loss: 0.0226 - accuracy: 0.9922 - val_loss: 0.5896 - val_accuracy: 0.9074\n",
      "Epoch 28/50\n",
      "375/375 [==============================] - 11s 28ms/step - loss: 0.0148 - accuracy: 0.9951 - val_loss: 0.6123 - val_accuracy: 0.9120\n",
      "Epoch 29/50\n",
      "375/375 [==============================] - 10s 27ms/step - loss: 0.0299 - accuracy: 0.9884 - val_loss: 0.6209 - val_accuracy: 0.9091\n",
      "Epoch 30/50\n",
      "375/375 [==============================] - 10s 26ms/step - loss: 0.0216 - accuracy: 0.9920 - val_loss: 0.6097 - val_accuracy: 0.9123\n",
      "Epoch 31/50\n",
      "375/375 [==============================] - 11s 28ms/step - loss: 0.0140 - accuracy: 0.9950 - val_loss: 0.6053 - val_accuracy: 0.9133\n",
      "Epoch 32/50\n",
      "375/375 [==============================] - 10s 27ms/step - loss: 0.0174 - accuracy: 0.9937 - val_loss: 0.6948 - val_accuracy: 0.9106\n",
      "Epoch 33/50\n",
      "375/375 [==============================] - 10s 28ms/step - loss: 0.0283 - accuracy: 0.9897 - val_loss: 0.6878 - val_accuracy: 0.9077\n",
      "Epoch 34/50\n",
      "375/375 [==============================] - 10s 26ms/step - loss: 0.0241 - accuracy: 0.9909 - val_loss: 0.6376 - val_accuracy: 0.9126\n",
      "Epoch 35/50\n",
      "375/375 [==============================] - 10s 27ms/step - loss: 0.0134 - accuracy: 0.9953 - val_loss: 0.6679 - val_accuracy: 0.9139\n",
      "Epoch 36/50\n",
      "375/375 [==============================] - 10s 27ms/step - loss: 0.0136 - accuracy: 0.9952 - val_loss: 0.6846 - val_accuracy: 0.9095\n",
      "Epoch 37/50\n",
      "375/375 [==============================] - 10s 27ms/step - loss: 0.0209 - accuracy: 0.9927 - val_loss: 0.6537 - val_accuracy: 0.9110\n",
      "Epoch 38/50\n",
      "375/375 [==============================] - 14s 39ms/step - loss: 0.0196 - accuracy: 0.9926 - val_loss: 0.6882 - val_accuracy: 0.9089\n",
      "Epoch 39/50\n",
      "375/375 [==============================] - 11s 31ms/step - loss: 0.0141 - accuracy: 0.9953 - val_loss: 0.6972 - val_accuracy: 0.9049\n",
      "Epoch 40/50\n",
      "375/375 [==============================] - 11s 30ms/step - loss: 0.0301 - accuracy: 0.9894 - val_loss: 0.6882 - val_accuracy: 0.9100\n",
      "Epoch 41/50\n",
      "375/375 [==============================] - 11s 28ms/step - loss: 0.0142 - accuracy: 0.9952 - val_loss: 0.7349 - val_accuracy: 0.9078\n",
      "Epoch 42/50\n",
      "375/375 [==============================] - 10s 27ms/step - loss: 0.0119 - accuracy: 0.9959 - val_loss: 0.7068 - val_accuracy: 0.9121\n",
      "Epoch 43/50\n",
      "375/375 [==============================] - 10s 28ms/step - loss: 0.0142 - accuracy: 0.9947 - val_loss: 0.7281 - val_accuracy: 0.9099\n",
      "Epoch 44/50\n",
      "375/375 [==============================] - 10s 27ms/step - loss: 0.0176 - accuracy: 0.9940 - val_loss: 0.7871 - val_accuracy: 0.9037\n",
      "Epoch 45/50\n",
      "375/375 [==============================] - 10s 26ms/step - loss: 0.0177 - accuracy: 0.9937 - val_loss: 0.7479 - val_accuracy: 0.9134\n",
      "Epoch 46/50\n",
      "375/375 [==============================] - 10s 26ms/step - loss: 0.0181 - accuracy: 0.9936 - val_loss: 0.7777 - val_accuracy: 0.9079\n",
      "Epoch 47/50\n",
      "375/375 [==============================] - 10s 27ms/step - loss: 0.0242 - accuracy: 0.9912 - val_loss: 0.7763 - val_accuracy: 0.9143\n",
      "Epoch 48/50\n",
      "375/375 [==============================] - 10s 26ms/step - loss: 0.0144 - accuracy: 0.9946 - val_loss: 0.8147 - val_accuracy: 0.9088\n",
      "Epoch 49/50\n",
      "375/375 [==============================] - 10s 26ms/step - loss: 0.0086 - accuracy: 0.9973 - val_loss: 0.7752 - val_accuracy: 0.9053\n",
      "Epoch 50/50\n",
      "375/375 [==============================] - 10s 26ms/step - loss: 0.0117 - accuracy: 0.9961 - val_loss: 0.8210 - val_accuracy: 0.9086\n"
     ]
    }
   ],
   "source": [
    "history = model.fit(train_images, train_labels, epochs=50, batch_size=160, validation_data=(test_images, test_labels))"
   ]
  },
  {
   "cell_type": "code",
   "execution_count": 15,
   "id": "44153c3d-ff91-4900-a3ee-eb904ddac6f2",
   "metadata": {},
   "outputs": [
    {
     "name": "stdout",
     "output_type": "stream",
     "text": [
      "313/313 [==============================] - 1s 5ms/step - loss: 0.8210 - accuracy: 0.9086\n",
      "Точність алгоритму: 90.86%\n"
     ]
    }
   ],
   "source": [
    "test_loss, test_accuracy = model.evaluate(test_images, test_labels)\n",
    "print(f'Точність алгоритму: {np.round(test_accuracy*100, 2)}%')"
   ]
  },
  {
   "cell_type": "code",
   "execution_count": null,
   "id": "089ab25b-ff38-4afd-ba54-e10aec07275b",
   "metadata": {},
   "outputs": [],
   "source": []
  }
 ],
 "metadata": {
  "kernelspec": {
   "display_name": "Python 3 (ipykernel)",
   "language": "python",
   "name": "python3"
  },
  "language_info": {
   "codemirror_mode": {
    "name": "ipython",
    "version": 3
   },
   "file_extension": ".py",
   "mimetype": "text/x-python",
   "name": "python",
   "nbconvert_exporter": "python",
   "pygments_lexer": "ipython3",
   "version": "3.10.8"
  }
 },
 "nbformat": 4,
 "nbformat_minor": 5
}
