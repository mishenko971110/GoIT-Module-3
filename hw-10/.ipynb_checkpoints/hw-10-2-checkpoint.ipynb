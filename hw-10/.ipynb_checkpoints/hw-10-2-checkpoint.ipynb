{
 "cells": [
  {
   "cell_type": "code",
   "execution_count": 37,
   "id": "fc63b862-6baf-404d-ae1e-e5f9ce10e0ae",
   "metadata": {},
   "outputs": [],
   "source": [
    "import numpy as np\n",
    "from tensorflow.keras.models import Sequential\n",
    "from tensorflow.keras.layers import Dense, Flatten\n",
    "from tensorflow.keras.applications import VGG16\n",
    "from tensorflow.keras.preprocessing.image import img_to_array, array_to_img, ImageDataGenerator\n",
    "from tensorflow.keras.utils import to_categorical"
   ]
  },
  {
   "cell_type": "code",
   "execution_count": 38,
   "id": "721a7c1f-8b81-4fb7-a26c-d9cbd05ef3f2",
   "metadata": {},
   "outputs": [
    {
     "name": "stdout",
     "output_type": "stream",
     "text": [
      "1875/1875 [==============================] - 406s 216ms/step\n",
      "313/313 [==============================] - 74s 237ms/step\n"
     ]
    }
   ],
   "source": [
    "(train_images, train_labels), (test_images, test_labels) = fashion_mnist.load_data()\n",
    "train_images = np.expand_dims(train_images, axis=-1)\n",
    "train_images = np.repeat(train_images, 3, axis=-1)\n",
    "train_images = np.asarray([img_to_array(array_to_img(img, scale=False).resize((48, 48))) for img in train_images])\n",
    "\n",
    "test_images = np.expand_dims(test_images, axis=-1)\n",
    "test_images = np.repeat(test_images, 3, axis=-1)  # Повторення каналів для отримання RGB\n",
    "test_images = np.asarray([img_to_array(array_to_img(img, scale=False).resize((48, 48))) for img in test_images])\n",
    "\n",
    "train_images = train_images.astype('float32') / 255\n",
    "test_images = test_images.astype('float32') / 255\n",
    "\n",
    "vgg16_base = VGG16(weights='imagenet', include_top=False, input_shape=(48, 48, 3))\n",
    "train_features = vgg16_base.predict(train_images)\n",
    "test_features = vgg16_base.predict(test_images)\n",
    "\n",
    "train_features = np.reshape(train_features, (train_features.shape[0], -1))\n",
    "test_features = np.reshape(test_features, (test_features.shape[0], -1))\n",
    "\n",
    "train_labels = to_categorical(train_labels)\n",
    "test_labels = to_categorical(test_labels)\n",
    "test_labels_categorical = to_categorical(test_labels)"
   ]
  },
  {
   "cell_type": "code",
   "execution_count": 39,
   "id": "b83ed345-0aa0-4b89-b72b-1b907fd58108",
   "metadata": {},
   "outputs": [],
   "source": [
    "model = Sequential()\n",
    "model.add(Dense(256, activation='relu', input_dim=train_features.shape[1]))\n",
    "model.add(Dense(10, activation='softmax'))  # Змініть кількість нейронів в останньому шарі на кількість класів\n",
    "\n",
    "model.compile(optimizer='adam',\n",
    "              loss='categorical_crossentropy',\n",
    "              metrics=['accuracy'])"
   ]
  },
  {
   "cell_type": "code",
   "execution_count": 40,
   "id": "6a917f3e-4eaf-4637-828f-f3ee90f79e9e",
   "metadata": {},
   "outputs": [
    {
     "name": "stdout",
     "output_type": "stream",
     "text": [
      "Epoch 1/50\n",
      "375/375 [==============================] - 2s 5ms/step - loss: 0.5563 - accuracy: 0.8118 - val_loss: 0.4325 - val_accuracy: 0.8468\n",
      "Epoch 2/50\n",
      "375/375 [==============================] - 2s 5ms/step - loss: 0.3937 - accuracy: 0.8570 - val_loss: 0.3962 - val_accuracy: 0.8593\n",
      "Epoch 3/50\n",
      "375/375 [==============================] - 2s 5ms/step - loss: 0.3616 - accuracy: 0.8690 - val_loss: 0.3872 - val_accuracy: 0.8615\n",
      "Epoch 4/50\n",
      "375/375 [==============================] - 2s 5ms/step - loss: 0.3413 - accuracy: 0.8759 - val_loss: 0.3675 - val_accuracy: 0.8691\n",
      "Epoch 5/50\n",
      "375/375 [==============================] - 2s 5ms/step - loss: 0.3237 - accuracy: 0.8830 - val_loss: 0.3650 - val_accuracy: 0.8685\n",
      "Epoch 6/50\n",
      "375/375 [==============================] - 2s 5ms/step - loss: 0.3106 - accuracy: 0.8863 - val_loss: 0.3620 - val_accuracy: 0.8701\n",
      "Epoch 7/50\n",
      "375/375 [==============================] - 2s 5ms/step - loss: 0.3021 - accuracy: 0.8895 - val_loss: 0.3508 - val_accuracy: 0.8748\n",
      "Epoch 8/50\n",
      "375/375 [==============================] - 2s 5ms/step - loss: 0.2889 - accuracy: 0.8937 - val_loss: 0.3453 - val_accuracy: 0.8787\n",
      "Epoch 9/50\n",
      "375/375 [==============================] - 2s 5ms/step - loss: 0.2796 - accuracy: 0.8972 - val_loss: 0.3393 - val_accuracy: 0.8797\n",
      "Epoch 10/50\n",
      "375/375 [==============================] - 2s 5ms/step - loss: 0.2720 - accuracy: 0.9000 - val_loss: 0.3492 - val_accuracy: 0.8766\n",
      "Epoch 11/50\n",
      "375/375 [==============================] - 2s 5ms/step - loss: 0.2623 - accuracy: 0.9039 - val_loss: 0.3460 - val_accuracy: 0.8757\n",
      "Epoch 12/50\n",
      "375/375 [==============================] - 2s 5ms/step - loss: 0.2546 - accuracy: 0.9062 - val_loss: 0.3324 - val_accuracy: 0.8809\n",
      "Epoch 13/50\n",
      "375/375 [==============================] - 2s 5ms/step - loss: 0.2469 - accuracy: 0.9089 - val_loss: 0.3367 - val_accuracy: 0.8798\n",
      "Epoch 14/50\n",
      "375/375 [==============================] - 2s 5ms/step - loss: 0.2398 - accuracy: 0.9117 - val_loss: 0.3348 - val_accuracy: 0.8803\n",
      "Epoch 15/50\n",
      "375/375 [==============================] - 2s 5ms/step - loss: 0.2330 - accuracy: 0.9142 - val_loss: 0.3473 - val_accuracy: 0.8782\n",
      "Epoch 16/50\n",
      "375/375 [==============================] - 2s 5ms/step - loss: 0.2272 - accuracy: 0.9169 - val_loss: 0.3292 - val_accuracy: 0.8846\n",
      "Epoch 17/50\n",
      "375/375 [==============================] - 2s 5ms/step - loss: 0.2193 - accuracy: 0.9184 - val_loss: 0.3316 - val_accuracy: 0.8852\n",
      "Epoch 18/50\n",
      "375/375 [==============================] - 2s 5ms/step - loss: 0.2112 - accuracy: 0.9232 - val_loss: 0.3428 - val_accuracy: 0.8808\n",
      "Epoch 19/50\n",
      "375/375 [==============================] - 2s 5ms/step - loss: 0.2083 - accuracy: 0.9231 - val_loss: 0.3365 - val_accuracy: 0.8827\n",
      "Epoch 20/50\n",
      "375/375 [==============================] - 2s 5ms/step - loss: 0.2024 - accuracy: 0.9248 - val_loss: 0.3293 - val_accuracy: 0.8890\n",
      "Epoch 21/50\n",
      "375/375 [==============================] - 2s 5ms/step - loss: 0.1965 - accuracy: 0.9283 - val_loss: 0.3348 - val_accuracy: 0.8855\n",
      "Epoch 22/50\n",
      "375/375 [==============================] - 2s 5ms/step - loss: 0.1889 - accuracy: 0.9311 - val_loss: 0.3345 - val_accuracy: 0.8868\n",
      "Epoch 23/50\n",
      "375/375 [==============================] - 2s 5ms/step - loss: 0.1863 - accuracy: 0.9329 - val_loss: 0.3394 - val_accuracy: 0.8814\n",
      "Epoch 24/50\n",
      "375/375 [==============================] - 2s 5ms/step - loss: 0.1794 - accuracy: 0.9349 - val_loss: 0.3381 - val_accuracy: 0.8858\n",
      "Epoch 25/50\n",
      "375/375 [==============================] - 2s 5ms/step - loss: 0.1767 - accuracy: 0.9363 - val_loss: 0.3414 - val_accuracy: 0.8865\n",
      "Epoch 26/50\n",
      "375/375 [==============================] - 2s 5ms/step - loss: 0.1697 - accuracy: 0.9387 - val_loss: 0.3604 - val_accuracy: 0.8804\n",
      "Epoch 27/50\n",
      "375/375 [==============================] - 2s 5ms/step - loss: 0.1657 - accuracy: 0.9405 - val_loss: 0.3434 - val_accuracy: 0.8856\n",
      "Epoch 28/50\n",
      "375/375 [==============================] - 2s 5ms/step - loss: 0.1601 - accuracy: 0.9420 - val_loss: 0.3447 - val_accuracy: 0.8884\n",
      "Epoch 29/50\n",
      "375/375 [==============================] - 2s 5ms/step - loss: 0.1553 - accuracy: 0.9439 - val_loss: 0.3467 - val_accuracy: 0.8887\n",
      "Epoch 30/50\n",
      "375/375 [==============================] - 2s 5ms/step - loss: 0.1529 - accuracy: 0.9452 - val_loss: 0.3587 - val_accuracy: 0.8838\n",
      "Epoch 31/50\n",
      "375/375 [==============================] - 2s 5ms/step - loss: 0.1472 - accuracy: 0.9476 - val_loss: 0.3635 - val_accuracy: 0.8819\n",
      "Epoch 32/50\n",
      "375/375 [==============================] - 2s 5ms/step - loss: 0.1444 - accuracy: 0.9478 - val_loss: 0.3624 - val_accuracy: 0.8817\n",
      "Epoch 33/50\n",
      "375/375 [==============================] - 2s 5ms/step - loss: 0.1381 - accuracy: 0.9516 - val_loss: 0.3581 - val_accuracy: 0.8880\n",
      "Epoch 34/50\n",
      "375/375 [==============================] - 2s 5ms/step - loss: 0.1360 - accuracy: 0.9511 - val_loss: 0.3644 - val_accuracy: 0.8873\n",
      "Epoch 35/50\n",
      "375/375 [==============================] - 2s 5ms/step - loss: 0.1331 - accuracy: 0.9523 - val_loss: 0.3764 - val_accuracy: 0.8856\n",
      "Epoch 36/50\n",
      "375/375 [==============================] - 2s 5ms/step - loss: 0.1296 - accuracy: 0.9548 - val_loss: 0.3691 - val_accuracy: 0.8862\n",
      "Epoch 37/50\n",
      "375/375 [==============================] - 2s 5ms/step - loss: 0.1245 - accuracy: 0.9559 - val_loss: 0.3715 - val_accuracy: 0.8877\n",
      "Epoch 38/50\n",
      "375/375 [==============================] - 2s 5ms/step - loss: 0.1218 - accuracy: 0.9572 - val_loss: 0.3690 - val_accuracy: 0.8886\n",
      "Epoch 39/50\n",
      "375/375 [==============================] - 2s 5ms/step - loss: 0.1183 - accuracy: 0.9583 - val_loss: 0.3836 - val_accuracy: 0.8846\n",
      "Epoch 40/50\n",
      "375/375 [==============================] - 2s 5ms/step - loss: 0.1173 - accuracy: 0.9584 - val_loss: 0.3951 - val_accuracy: 0.8840\n",
      "Epoch 41/50\n",
      "375/375 [==============================] - 2s 5ms/step - loss: 0.1117 - accuracy: 0.9611 - val_loss: 0.3978 - val_accuracy: 0.8859\n",
      "Epoch 42/50\n",
      "375/375 [==============================] - 2s 5ms/step - loss: 0.1095 - accuracy: 0.9623 - val_loss: 0.3914 - val_accuracy: 0.8864\n",
      "Epoch 43/50\n",
      "375/375 [==============================] - 2s 5ms/step - loss: 0.1060 - accuracy: 0.9628 - val_loss: 0.3990 - val_accuracy: 0.8849\n",
      "Epoch 44/50\n",
      "375/375 [==============================] - 2s 5ms/step - loss: 0.1018 - accuracy: 0.9647 - val_loss: 0.4102 - val_accuracy: 0.8850\n",
      "Epoch 45/50\n",
      "375/375 [==============================] - 2s 5ms/step - loss: 0.0995 - accuracy: 0.9653 - val_loss: 0.4167 - val_accuracy: 0.8829\n",
      "Epoch 46/50\n",
      "375/375 [==============================] - 2s 5ms/step - loss: 0.0985 - accuracy: 0.9665 - val_loss: 0.4088 - val_accuracy: 0.8875\n",
      "Epoch 47/50\n",
      "375/375 [==============================] - 2s 5ms/step - loss: 0.0934 - accuracy: 0.9687 - val_loss: 0.4069 - val_accuracy: 0.8883\n",
      "Epoch 48/50\n",
      "375/375 [==============================] - 2s 5ms/step - loss: 0.0918 - accuracy: 0.9686 - val_loss: 0.4127 - val_accuracy: 0.8884\n",
      "Epoch 49/50\n",
      "375/375 [==============================] - 2s 5ms/step - loss: 0.0886 - accuracy: 0.9700 - val_loss: 0.4223 - val_accuracy: 0.8871\n",
      "Epoch 50/50\n",
      "375/375 [==============================] - 2s 5ms/step - loss: 0.0867 - accuracy: 0.9712 - val_loss: 0.4210 - val_accuracy: 0.8884\n"
     ]
    },
    {
     "data": {
      "text/plain": [
       "<keras.src.callbacks.History at 0x22c09097310>"
      ]
     },
     "execution_count": 40,
     "metadata": {},
     "output_type": "execute_result"
    }
   ],
   "source": [
    "model.fit(train_features, train_labels, epochs=50, batch_size=160, validation_data=(test_features, test_labels))"
   ]
  },
  {
   "cell_type": "code",
   "execution_count": 42,
   "id": "f1c730e6-5650-4d80-ad1b-19a75ec03bc8",
   "metadata": {},
   "outputs": [
    {
     "name": "stdout",
     "output_type": "stream",
     "text": [
      "313/313 [==============================] - 1s 2ms/step\n",
      "313/313 [==============================] - 0s 1ms/step - loss: 0.4210 - accuracy: 0.8884\n",
      "Точність алгоритму: 88.84%\n"
     ]
    }
   ],
   "source": [
    "predictions = model.predict(test_features)\n",
    "test_loss, test_accuracy = model.evaluate(test_features, test_labels)\n",
    "print(f'Точність алгоритму: {np.round(test_accuracy * 100, 2)}%')"
   ]
  }
 ],
 "metadata": {
  "kernelspec": {
   "display_name": "Python 3 (ipykernel)",
   "language": "python",
   "name": "python3"
  },
  "language_info": {
   "codemirror_mode": {
    "name": "ipython",
    "version": 3
   },
   "file_extension": ".py",
   "mimetype": "text/x-python",
   "name": "python",
   "nbconvert_exporter": "python",
   "pygments_lexer": "ipython3",
   "version": "3.10.8"
  }
 },
 "nbformat": 4,
 "nbformat_minor": 5
}
