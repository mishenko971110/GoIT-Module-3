{
 "cells": [
  {
   "cell_type": "code",
   "execution_count": 61,
   "id": "2c229e49-b2f8-44ef-8c06-63e60dcfe0ef",
   "metadata": {},
   "outputs": [],
   "source": [
    "import pandas as pd\n",
    "import numpy as np"
   ]
  },
  {
   "cell_type": "code",
   "execution_count": 62,
   "id": "3221ba62-9a11-442c-9435-3fd7c3e78e82",
   "metadata": {},
   "outputs": [
    {
     "name": "stdout",
     "output_type": "stream",
     "text": [
      "         N                 Должность Язык.программирования Специализация  \\\n",
      "0        1        Junior QA engineer                   NaN     Manual QA   \n",
      "1        2        Junior QA engineer                   NaN     Manual QA   \n",
      "2        3         Software Engineer               C#/.NET           NaN   \n",
      "3        4         Software Engineer            JavaScript           NaN   \n",
      "4        5  Senior Software Engineer            JavaScript           NaN   \n",
      "...    ...                       ...                   ...           ...   \n",
      "8699  8700               QA engineer                   NaN     Manual QA   \n",
      "8700  8701                 Marketing                   NaN           NaN   \n",
      "8701  8702  Junior Software Engineer            Ruby/Rails           NaN   \n",
      "8702  8703                 Team lead                   NaN           NaN   \n",
      "8703  8704  Senior Software Engineer                  Java           NaN   \n",
      "\n",
      "     Общий.опыт.работы Опыт.работы.на.текущем.месте  Зарплата.в.месяц  \\\n",
      "0                  0.5                          0.5               400   \n",
      "1     меньше 3 месяцев             меньше 3 месяцев               430   \n",
      "2                    4                            1              2500   \n",
      "3                    5                            4              2000   \n",
      "4       10 и более лет                          0.5              4500   \n",
      "...                ...                          ...               ...   \n",
      "8699                 1             меньше 3 месяцев               700   \n",
      "8700               0.5                          0.5               400   \n",
      "8701                 1                          0.5               800   \n",
      "8702                 6                            4              2600   \n",
      "8703                 7                            2              5000   \n",
      "\n",
      "      Изменение.зарплаты.за.12.месяцев    Город     Размер.компании  ...  \\\n",
      "0                                    0  Харьков       до 10 человек  ...   \n",
      "1                                  130  Харьков  свыше 1000 человек  ...   \n",
      "2                                  800     Киев     до 1000 человек  ...   \n",
      "3                                  400   Одесса      до 200 человек  ...   \n",
      "4                                  500   Другой       до 10 человек  ...   \n",
      "...                                ...      ...                 ...  ...   \n",
      "8699                               700   Одесса       до 50 человек  ...   \n",
      "8700                               120     Киев       до 50 человек  ...   \n",
      "8701                               500    Львов       до 10 человек  ...   \n",
      "8702                                 0    Днепр  свыше 1000 человек  ...   \n",
      "8703                               800   Одесса     до 1000 человек  ...   \n",
      "\n",
      "     Еще.студент Уровень.английского                    Предметная.область  \\\n",
      "0           True       ниже среднего                         iOS,eCommerce   \n",
      "1           True       выше среднего                        Веб-разработка   \n",
      "2          False             средний  Веб-разработка,Корпоративные системы   \n",
      "3          False       ниже среднего   Desktop Applications,Веб-разработка   \n",
      "4          False             средний   Desktop Applications,Веб-разработка   \n",
      "...          ...                 ...                                   ...   \n",
      "8699       False             средний          Android,Desktop Applications   \n",
      "8700       False       ниже среднего                             eCommerce   \n",
      "8701       False       выше среднего  Веб-разработка,Корпоративные системы   \n",
      "8702       False         продвинутый                       Финансы и банки   \n",
      "8703       False       выше среднего                        Веб-разработка   \n",
      "\n",
      "          Дата.заполнения                                         User.Agent  \\\n",
      "0     12/06/2017 12:38:08  Mozilla/5.0 (Windows NT 10.0; Win64; x64) Appl...   \n",
      "1     12/06/2017 12:42:51  Mozilla/5.0 (iPad; CPU OS 10_2_1 like Mac OS X...   \n",
      "2     12/06/2017 13:02:47  Mozilla/5.0 (Windows NT 10.0; Win64; x64) Appl...   \n",
      "3     12/06/2017 13:03:01  Mozilla/5.0 (Windows NT 6.1; Win64; x64) Apple...   \n",
      "4     12/06/2017 13:03:47  Mozilla/5.0 (iPhone; CPU iPhone OS 10_3_2 like...   \n",
      "...                   ...                                                ...   \n",
      "8699  12/07/2017 15:45:24  Mozilla/5.0 (X11; Ubuntu; Linux x86_64; rv:54....   \n",
      "8700  12/07/2017 17:00:06  Mozilla/5.0 (Windows NT 10.0; Win64; x64) Appl...   \n",
      "8701  12/07/2017 17:32:26  Mozilla/5.0 (X11; Linux x86_64) AppleWebKit/53...   \n",
      "8702  12/07/2017 18:14:59  Mozilla/5.0 (Windows NT 6.1) AppleWebKit/537.3...   \n",
      "8703  12/07/2017 21:28:57  Mozilla/5.0 (iPad; CPU OS 10_3_2 like Mac OS X...   \n",
      "\n",
      "       exp current_job_exp salary Валюта  cls  \n",
      "0      0.5             0.5    400    NaN   QA  \n",
      "1      0.0             0.0    430    NaN   QA  \n",
      "2      4.0             1.0   2500    NaN  DEV  \n",
      "3      5.0             4.0   2000    NaN  DEV  \n",
      "4     10.0             0.5   4500    NaN  DEV  \n",
      "...    ...             ...    ...    ...  ...  \n",
      "8699   1.0             0.0    700    NaN   QA  \n",
      "8700   0.5             0.5    400    NaN  NaN  \n",
      "8701   1.0             0.5    800    NaN  DEV  \n",
      "8702   6.0             4.0   2600    NaN   PM  \n",
      "8703   7.0             2.0   5000    NaN  DEV  \n",
      "\n",
      "[8704 rows x 25 columns]\n"
     ]
    }
   ],
   "source": [
    "#Прочитайте файл 2017_jun_final.csv за допомогою методу read_csv\n",
    "data = pd.read_csv(\"2017_jun_final.csv\")\n",
    "print(data)"
   ]
  },
  {
   "cell_type": "code",
   "execution_count": 63,
   "id": "12bb4631-6456-48b1-bea6-62c4d4bb8a29",
   "metadata": {},
   "outputs": [
    {
     "name": "stdout",
     "output_type": "stream",
     "text": [
      "   N                 Должность Язык.программирования Специализация  \\\n",
      "0  1        Junior QA engineer                   NaN     Manual QA   \n",
      "1  2        Junior QA engineer                   NaN     Manual QA   \n",
      "2  3         Software Engineer               C#/.NET           NaN   \n",
      "3  4         Software Engineer            JavaScript           NaN   \n",
      "4  5  Senior Software Engineer            JavaScript           NaN   \n",
      "\n",
      "  Общий.опыт.работы Опыт.работы.на.текущем.месте  Зарплата.в.месяц  \\\n",
      "0               0.5                          0.5               400   \n",
      "1  меньше 3 месяцев             меньше 3 месяцев               430   \n",
      "2                 4                            1              2500   \n",
      "3                 5                            4              2000   \n",
      "4    10 и более лет                          0.5              4500   \n",
      "\n",
      "   Изменение.зарплаты.за.12.месяцев    Город     Размер.компании  ...  \\\n",
      "0                                 0  Харьков       до 10 человек  ...   \n",
      "1                               130  Харьков  свыше 1000 человек  ...   \n",
      "2                               800     Киев     до 1000 человек  ...   \n",
      "3                               400   Одесса      до 200 человек  ...   \n",
      "4                               500   Другой       до 10 человек  ...   \n",
      "\n",
      "  Еще.студент Уровень.английского                    Предметная.область  \\\n",
      "0        True       ниже среднего                         iOS,eCommerce   \n",
      "1        True       выше среднего                        Веб-разработка   \n",
      "2       False             средний  Веб-разработка,Корпоративные системы   \n",
      "3       False       ниже среднего   Desktop Applications,Веб-разработка   \n",
      "4       False             средний   Desktop Applications,Веб-разработка   \n",
      "\n",
      "       Дата.заполнения                                         User.Agent  \\\n",
      "0  12/06/2017 12:38:08  Mozilla/5.0 (Windows NT 10.0; Win64; x64) Appl...   \n",
      "1  12/06/2017 12:42:51  Mozilla/5.0 (iPad; CPU OS 10_2_1 like Mac OS X...   \n",
      "2  12/06/2017 13:02:47  Mozilla/5.0 (Windows NT 10.0; Win64; x64) Appl...   \n",
      "3  12/06/2017 13:03:01  Mozilla/5.0 (Windows NT 6.1; Win64; x64) Apple...   \n",
      "4  12/06/2017 13:03:47  Mozilla/5.0 (iPhone; CPU iPhone OS 10_3_2 like...   \n",
      "\n",
      "    exp current_job_exp salary Валюта  cls  \n",
      "0   0.5             0.5    400    NaN   QA  \n",
      "1   0.0             0.0    430    NaN   QA  \n",
      "2   4.0             1.0   2500    NaN  DEV  \n",
      "3   5.0             4.0   2000    NaN  DEV  \n",
      "4  10.0             0.5   4500    NaN  DEV  \n",
      "\n",
      "[5 rows x 25 columns]\n"
     ]
    }
   ],
   "source": [
    "#Прочитайте отриману таблицю, використовуючи метод head\n",
    "print(data.head())"
   ]
  },
  {
   "cell_type": "code",
   "execution_count": 64,
   "id": "f9ae4b51-21cb-4ce2-bb79-d2247638444b",
   "metadata": {},
   "outputs": [
    {
     "name": "stdout",
     "output_type": "stream",
     "text": [
      "8704 25\n"
     ]
    }
   ],
   "source": [
    "#Визначте розмір таблиці за допомогою методу shape\n",
    "rows, cols = data.shape\n",
    "print(rows, cols)"
   ]
  },
  {
   "cell_type": "code",
   "execution_count": 65,
   "id": "e610a1eb-630a-40d3-bc07-b493506c9eb2",
   "metadata": {},
   "outputs": [
    {
     "name": "stdout",
     "output_type": "stream",
     "text": [
      "N                                     int64\n",
      "Должность                            object\n",
      "Язык.программирования                object\n",
      "Специализация                        object\n",
      "Общий.опыт.работы                    object\n",
      "Опыт.работы.на.текущем.месте         object\n",
      "Зарплата.в.месяц                      int64\n",
      "Изменение.зарплаты.за.12.месяцев      int64\n",
      "Город                                object\n",
      "Размер.компании                      object\n",
      "Тип.компании                         object\n",
      "Пол                                  object\n",
      "Возраст                               int64\n",
      "Образование                          object\n",
      "Университет                          object\n",
      "Еще.студент                            bool\n",
      "Уровень.английского                  object\n",
      "Предметная.область                   object\n",
      "Дата.заполнения                      object\n",
      "User.Agent                           object\n",
      "exp                                 float64\n",
      "current_job_exp                     float64\n",
      "salary                                int64\n",
      "Валюта                               object\n",
      "cls                                  object\n",
      "dtype: object\n"
     ]
    }
   ],
   "source": [
    "#Визначте типи всіх стовпців за допомогою dataframe.dtypes\n",
    "cols_types = data.dtypes\n",
    "print(cols_types)"
   ]
  },
  {
   "cell_type": "code",
   "execution_count": 66,
   "id": "9da16b87-589e-4943-9148-f1dfcca027a2",
   "metadata": {},
   "outputs": [
    {
     "name": "stdout",
     "output_type": "stream",
     "text": [
      "N                                   0.000000\n",
      "Должность                           0.000000\n",
      "Язык.программирования               0.442325\n",
      "Специализация                       0.829389\n",
      "Общий.опыт.работы                   0.000000\n",
      "Опыт.работы.на.текущем.месте        0.000000\n",
      "Зарплата.в.месяц                    0.000000\n",
      "Изменение.зарплаты.за.12.месяцев    0.000000\n",
      "Город                               0.000000\n",
      "Размер.компании                     0.000000\n",
      "Тип.компании                        0.000000\n",
      "Пол                                 0.000000\n",
      "Возраст                             0.000000\n",
      "Образование                         0.000000\n",
      "Университет                         0.041131\n",
      "Еще.студент                         0.000000\n",
      "Уровень.английского                 0.000000\n",
      "Предметная.область                  0.025620\n",
      "Дата.заполнения                     0.000000\n",
      "User.Agent                          0.000000\n",
      "exp                                 0.000000\n",
      "current_job_exp                     0.000000\n",
      "salary                              0.000000\n",
      "Валюта                              0.998851\n",
      "cls                                 0.180836\n",
      "dtype: float64\n"
     ]
    }
   ],
   "source": [
    "#Порахуйте, яка частка пропусків міститься в кожній колонці (використовуйте методи isnull та sum)\n",
    "print(data.isna().sum()/rows)"
   ]
  },
  {
   "cell_type": "code",
   "execution_count": 89,
   "id": "963b32e9-2fbb-477d-9acf-39323a2136e6",
   "metadata": {},
   "outputs": [
    {
     "ename": "KeyError",
     "evalue": "\"[('Специализация', 'Университет', 'Предметная.область', 'Валюта', 'cls')] not found in axis\"",
     "output_type": "error",
     "traceback": [
      "\u001b[1;31m---------------------------------------------------------------------------\u001b[0m",
      "\u001b[1;31mKeyError\u001b[0m                                  Traceback (most recent call last)",
      "Cell \u001b[1;32mIn[89], line 8\u001b[0m\n\u001b[0;32m      5\u001b[0m     \u001b[38;5;28;01mif\u001b[39;00m data[key]\u001b[38;5;241m.\u001b[39misna()\u001b[38;5;241m.\u001b[39msum()\u001b[38;5;241m/\u001b[39mrows \u001b[38;5;241m!=\u001b[39m \u001b[38;5;241m0\u001b[39m \u001b[38;5;129;01mand\u001b[39;00m key \u001b[38;5;241m!=\u001b[39m except_col:\n\u001b[0;32m      6\u001b[0m         keys_list\u001b[38;5;241m.\u001b[39mappend(key)\n\u001b[1;32m----> 8\u001b[0m modified_data \u001b[38;5;241m=\u001b[39m \u001b[43mdata\u001b[49m\u001b[38;5;241;43m.\u001b[39;49m\u001b[43mdrop\u001b[49m\u001b[43m(\u001b[49m\u001b[43m[\u001b[49m\u001b[43mkeys_list\u001b[49m\u001b[43m]\u001b[49m\u001b[43m)\u001b[49m\n\u001b[0;32m      9\u001b[0m \u001b[38;5;28mprint\u001b[39m(modified_data)\n\u001b[0;32m     11\u001b[0m \u001b[38;5;66;03m#avg_value_index = modified_data[modified_data['2019'] > avg_value].index.tolist()\u001b[39;00m\n\u001b[0;32m     12\u001b[0m \u001b[38;5;66;03m#avg_value_regions_list = modified_data['Регіон'].iloc[avg_value_index].tolist()\u001b[39;00m\n\u001b[0;32m     13\u001b[0m \n\u001b[0;32m     14\u001b[0m \u001b[38;5;66;03m#print(nan_index_col)\u001b[39;00m\n",
      "File \u001b[1;32m~\\AppData\\Local\\Programs\\Python\\Python310\\lib\\site-packages\\pandas\\core\\frame.py:5258\u001b[0m, in \u001b[0;36mDataFrame.drop\u001b[1;34m(self, labels, axis, index, columns, level, inplace, errors)\u001b[0m\n\u001b[0;32m   5110\u001b[0m \u001b[38;5;28;01mdef\u001b[39;00m \u001b[38;5;21mdrop\u001b[39m(\n\u001b[0;32m   5111\u001b[0m     \u001b[38;5;28mself\u001b[39m,\n\u001b[0;32m   5112\u001b[0m     labels: IndexLabel \u001b[38;5;241m=\u001b[39m \u001b[38;5;28;01mNone\u001b[39;00m,\n\u001b[1;32m   (...)\u001b[0m\n\u001b[0;32m   5119\u001b[0m     errors: IgnoreRaise \u001b[38;5;241m=\u001b[39m \u001b[38;5;124m\"\u001b[39m\u001b[38;5;124mraise\u001b[39m\u001b[38;5;124m\"\u001b[39m,\n\u001b[0;32m   5120\u001b[0m ) \u001b[38;5;241m-\u001b[39m\u001b[38;5;241m>\u001b[39m DataFrame \u001b[38;5;241m|\u001b[39m \u001b[38;5;28;01mNone\u001b[39;00m:\n\u001b[0;32m   5121\u001b[0m \u001b[38;5;250m    \u001b[39m\u001b[38;5;124;03m\"\"\"\u001b[39;00m\n\u001b[0;32m   5122\u001b[0m \u001b[38;5;124;03m    Drop specified labels from rows or columns.\u001b[39;00m\n\u001b[0;32m   5123\u001b[0m \n\u001b[1;32m   (...)\u001b[0m\n\u001b[0;32m   5256\u001b[0m \u001b[38;5;124;03m            weight  1.0     0.8\u001b[39;00m\n\u001b[0;32m   5257\u001b[0m \u001b[38;5;124;03m    \"\"\"\u001b[39;00m\n\u001b[1;32m-> 5258\u001b[0m     \u001b[38;5;28;01mreturn\u001b[39;00m \u001b[38;5;28;43msuper\u001b[39;49m\u001b[43m(\u001b[49m\u001b[43m)\u001b[49m\u001b[38;5;241;43m.\u001b[39;49m\u001b[43mdrop\u001b[49m\u001b[43m(\u001b[49m\n\u001b[0;32m   5259\u001b[0m \u001b[43m        \u001b[49m\u001b[43mlabels\u001b[49m\u001b[38;5;241;43m=\u001b[39;49m\u001b[43mlabels\u001b[49m\u001b[43m,\u001b[49m\n\u001b[0;32m   5260\u001b[0m \u001b[43m        \u001b[49m\u001b[43maxis\u001b[49m\u001b[38;5;241;43m=\u001b[39;49m\u001b[43maxis\u001b[49m\u001b[43m,\u001b[49m\n\u001b[0;32m   5261\u001b[0m \u001b[43m        \u001b[49m\u001b[43mindex\u001b[49m\u001b[38;5;241;43m=\u001b[39;49m\u001b[43mindex\u001b[49m\u001b[43m,\u001b[49m\n\u001b[0;32m   5262\u001b[0m \u001b[43m        \u001b[49m\u001b[43mcolumns\u001b[49m\u001b[38;5;241;43m=\u001b[39;49m\u001b[43mcolumns\u001b[49m\u001b[43m,\u001b[49m\n\u001b[0;32m   5263\u001b[0m \u001b[43m        \u001b[49m\u001b[43mlevel\u001b[49m\u001b[38;5;241;43m=\u001b[39;49m\u001b[43mlevel\u001b[49m\u001b[43m,\u001b[49m\n\u001b[0;32m   5264\u001b[0m \u001b[43m        \u001b[49m\u001b[43minplace\u001b[49m\u001b[38;5;241;43m=\u001b[39;49m\u001b[43minplace\u001b[49m\u001b[43m,\u001b[49m\n\u001b[0;32m   5265\u001b[0m \u001b[43m        \u001b[49m\u001b[43merrors\u001b[49m\u001b[38;5;241;43m=\u001b[39;49m\u001b[43merrors\u001b[49m\u001b[43m,\u001b[49m\n\u001b[0;32m   5266\u001b[0m \u001b[43m    \u001b[49m\u001b[43m)\u001b[49m\n",
      "File \u001b[1;32m~\\AppData\\Local\\Programs\\Python\\Python310\\lib\\site-packages\\pandas\\core\\generic.py:4549\u001b[0m, in \u001b[0;36mNDFrame.drop\u001b[1;34m(self, labels, axis, index, columns, level, inplace, errors)\u001b[0m\n\u001b[0;32m   4547\u001b[0m \u001b[38;5;28;01mfor\u001b[39;00m axis, labels \u001b[38;5;129;01min\u001b[39;00m axes\u001b[38;5;241m.\u001b[39mitems():\n\u001b[0;32m   4548\u001b[0m     \u001b[38;5;28;01mif\u001b[39;00m labels \u001b[38;5;129;01mis\u001b[39;00m \u001b[38;5;129;01mnot\u001b[39;00m \u001b[38;5;28;01mNone\u001b[39;00m:\n\u001b[1;32m-> 4549\u001b[0m         obj \u001b[38;5;241m=\u001b[39m \u001b[43mobj\u001b[49m\u001b[38;5;241;43m.\u001b[39;49m\u001b[43m_drop_axis\u001b[49m\u001b[43m(\u001b[49m\u001b[43mlabels\u001b[49m\u001b[43m,\u001b[49m\u001b[43m \u001b[49m\u001b[43maxis\u001b[49m\u001b[43m,\u001b[49m\u001b[43m \u001b[49m\u001b[43mlevel\u001b[49m\u001b[38;5;241;43m=\u001b[39;49m\u001b[43mlevel\u001b[49m\u001b[43m,\u001b[49m\u001b[43m \u001b[49m\u001b[43merrors\u001b[49m\u001b[38;5;241;43m=\u001b[39;49m\u001b[43merrors\u001b[49m\u001b[43m)\u001b[49m\n\u001b[0;32m   4551\u001b[0m \u001b[38;5;28;01mif\u001b[39;00m inplace:\n\u001b[0;32m   4552\u001b[0m     \u001b[38;5;28mself\u001b[39m\u001b[38;5;241m.\u001b[39m_update_inplace(obj)\n",
      "File \u001b[1;32m~\\AppData\\Local\\Programs\\Python\\Python310\\lib\\site-packages\\pandas\\core\\generic.py:4591\u001b[0m, in \u001b[0;36mNDFrame._drop_axis\u001b[1;34m(self, labels, axis, level, errors, only_slice)\u001b[0m\n\u001b[0;32m   4589\u001b[0m         new_axis \u001b[38;5;241m=\u001b[39m axis\u001b[38;5;241m.\u001b[39mdrop(labels, level\u001b[38;5;241m=\u001b[39mlevel, errors\u001b[38;5;241m=\u001b[39merrors)\n\u001b[0;32m   4590\u001b[0m     \u001b[38;5;28;01melse\u001b[39;00m:\n\u001b[1;32m-> 4591\u001b[0m         new_axis \u001b[38;5;241m=\u001b[39m \u001b[43maxis\u001b[49m\u001b[38;5;241;43m.\u001b[39;49m\u001b[43mdrop\u001b[49m\u001b[43m(\u001b[49m\u001b[43mlabels\u001b[49m\u001b[43m,\u001b[49m\u001b[43m \u001b[49m\u001b[43merrors\u001b[49m\u001b[38;5;241;43m=\u001b[39;49m\u001b[43merrors\u001b[49m\u001b[43m)\u001b[49m\n\u001b[0;32m   4592\u001b[0m     indexer \u001b[38;5;241m=\u001b[39m axis\u001b[38;5;241m.\u001b[39mget_indexer(new_axis)\n\u001b[0;32m   4594\u001b[0m \u001b[38;5;66;03m# Case for non-unique axis\u001b[39;00m\n\u001b[0;32m   4595\u001b[0m \u001b[38;5;28;01melse\u001b[39;00m:\n",
      "File \u001b[1;32m~\\AppData\\Local\\Programs\\Python\\Python310\\lib\\site-packages\\pandas\\core\\indexes\\base.py:6699\u001b[0m, in \u001b[0;36mIndex.drop\u001b[1;34m(self, labels, errors)\u001b[0m\n\u001b[0;32m   6697\u001b[0m \u001b[38;5;28;01mif\u001b[39;00m mask\u001b[38;5;241m.\u001b[39many():\n\u001b[0;32m   6698\u001b[0m     \u001b[38;5;28;01mif\u001b[39;00m errors \u001b[38;5;241m!=\u001b[39m \u001b[38;5;124m\"\u001b[39m\u001b[38;5;124mignore\u001b[39m\u001b[38;5;124m\"\u001b[39m:\n\u001b[1;32m-> 6699\u001b[0m         \u001b[38;5;28;01mraise\u001b[39;00m \u001b[38;5;167;01mKeyError\u001b[39;00m(\u001b[38;5;124mf\u001b[39m\u001b[38;5;124m\"\u001b[39m\u001b[38;5;132;01m{\u001b[39;00m\u001b[38;5;28mlist\u001b[39m(labels[mask])\u001b[38;5;132;01m}\u001b[39;00m\u001b[38;5;124m not found in axis\u001b[39m\u001b[38;5;124m\"\u001b[39m)\n\u001b[0;32m   6700\u001b[0m     indexer \u001b[38;5;241m=\u001b[39m indexer[\u001b[38;5;241m~\u001b[39mmask]\n\u001b[0;32m   6701\u001b[0m \u001b[38;5;28;01mreturn\u001b[39;00m \u001b[38;5;28mself\u001b[39m\u001b[38;5;241m.\u001b[39mdelete(indexer)\n",
      "\u001b[1;31mKeyError\u001b[0m: \"[('Специализация', 'Университет', 'Предметная.область', 'Валюта', 'cls')] not found in axis\""
     ]
    }
   ],
   "source": [
    "#Видаліть усі стовпці з пропусками, крім стовпця \"Мова програмування\"\n",
    "except_col = 'Язык.программирования'\n",
    "keys_list = []\n",
    "for key in data.keys():\n",
    "    if data[key].isna().sum()/rows != 0 and key != except_col:\n",
    "        keys_list.append(key)\n",
    "\n",
    "modified_data = data.drop([keys_list])\n",
    "print(modified_data)\n",
    "\n",
    "#avg_value_index = modified_data[modified_data['2019'] > avg_value].index.tolist()\n",
    "#avg_value_regions_list = modified_data['Регіон'].iloc[avg_value_index].tolist()\n",
    "\n",
    "#print(nan_index_col)\n",
    "\n",
    "        "
   ]
  },
  {
   "cell_type": "code",
   "execution_count": 34,
   "id": "1845e22d-c616-43d6-9b44-edc4c903f147",
   "metadata": {},
   "outputs": [
    {
     "name": "stdout",
     "output_type": "stream",
     "text": [
      "N                                   0.000000\n",
      "Должность                           0.000000\n",
      "Язык.программирования               0.442325\n",
      "Специализация                       0.829389\n",
      "Общий.опыт.работы                   0.000000\n",
      "Опыт.работы.на.текущем.месте        0.000000\n",
      "Зарплата.в.месяц                    0.000000\n",
      "Изменение.зарплаты.за.12.месяцев    0.000000\n",
      "Город                               0.000000\n",
      "Размер.компании                     0.000000\n",
      "Тип.компании                        0.000000\n",
      "Пол                                 0.000000\n",
      "Возраст                             0.000000\n",
      "Образование                         0.000000\n",
      "Университет                         0.041131\n",
      "Еще.студент                         0.000000\n",
      "Уровень.английского                 0.000000\n",
      "Предметная.область                  0.025620\n",
      "Дата.заполнения                     0.000000\n",
      "User.Agent                          0.000000\n",
      "exp                                 0.000000\n",
      "current_job_exp                     0.000000\n",
      "salary                              0.000000\n",
      "Валюта                              0.998851\n",
      "cls                                 0.180836\n",
      "dtype: float64\n"
     ]
    }
   ],
   "source": [
    "#Знову порахуйте, яка частка пропусків міститься в кожній колонці і переконайтеся, що залишився тільки стовпець \"Мова.програмування\"\n",
    "print(data.isna().sum()/rows)"
   ]
  },
  {
   "cell_type": "code",
   "execution_count": 9,
   "id": "827511f0-fed2-425b-a77f-78782643e51d",
   "metadata": {},
   "outputs": [],
   "source": [
    "#Видаліть усі рядки у вихідній таблиці за допомогою методу dropna"
   ]
  },
  {
   "cell_type": "code",
   "execution_count": 10,
   "id": "56dd46e6-964c-4dc7-9f92-fff374099ad2",
   "metadata": {},
   "outputs": [],
   "source": [
    "#Визначте новий розмір таблиці за допомогою методу shape"
   ]
  },
  {
   "cell_type": "code",
   "execution_count": 11,
   "id": "0e9141dc-7b07-4136-a6b2-44e72b25e200",
   "metadata": {},
   "outputs": [],
   "source": [
    "#Створіть нову таблицю python_data, в якій будуть тільки рядки зі спеціалістами, які вказали мову програмування Python"
   ]
  },
  {
   "cell_type": "code",
   "execution_count": 12,
   "id": "0f50a438-6b03-4af8-80aa-78cb8c284757",
   "metadata": {},
   "outputs": [],
   "source": [
    "#Визначте розмір таблиці python_data за допомогою методу shape"
   ]
  },
  {
   "cell_type": "code",
   "execution_count": 13,
   "id": "03a75b6e-cffa-423d-8a05-b82774fde421",
   "metadata": {},
   "outputs": [],
   "source": [
    "#Використовуючи метод groupby, виконайте групування за стовпчиком \"Посада\""
   ]
  },
  {
   "cell_type": "code",
   "execution_count": 14,
   "id": "5c956763-271f-436d-96f5-7219354f1751",
   "metadata": {},
   "outputs": [],
   "source": [
    "#Створіть новий DataFrame, де для згрупованих даних за стовпчиком \"Посада\", \n",
    "#виконайте агрегацію даних за допомогою методу agg і знайдіть мінімальне та максимальне значення у стовпчику \"Зарплата.в.місяць\""
   ]
  },
  {
   "cell_type": "code",
   "execution_count": 15,
   "id": "b828d650-e3c2-461f-80e2-1673f1a39ca0",
   "metadata": {},
   "outputs": [],
   "source": [
    "#Створіть функцію fill_avg_salary, яка повертатиме середнє значення заробітної плати на місяць. \n",
    "#Використовуйте її для методу apply та створіть новий стовпчик \"avg\""
   ]
  },
  {
   "cell_type": "code",
   "execution_count": 16,
   "id": "dfdcf2c9-8881-41d2-ae8e-900c6eb64204",
   "metadata": {},
   "outputs": [],
   "source": [
    "#Створіть описову статистику за допомогою методу describe для нового стовпчика."
   ]
  },
  {
   "cell_type": "code",
   "execution_count": 17,
   "id": "0d3d9f73-d88a-486a-a128-5434a9a2aab4",
   "metadata": {},
   "outputs": [],
   "source": [
    "#Збережіть отриману таблицю в CSV файл"
   ]
  }
 ],
 "metadata": {
  "kernelspec": {
   "display_name": "Python 3 (ipykernel)",
   "language": "python",
   "name": "python3"
  },
  "language_info": {
   "codemirror_mode": {
    "name": "ipython",
    "version": 3
   },
   "file_extension": ".py",
   "mimetype": "text/x-python",
   "name": "python",
   "nbconvert_exporter": "python",
   "pygments_lexer": "ipython3",
   "version": "3.10.8"
  }
 },
 "nbformat": 4,
 "nbformat_minor": 5
}
