{
 "cells": [
  {
   "cell_type": "code",
   "execution_count": 1,
   "id": "5d891a17-219a-4719-8821-b7dd24fdd08c",
   "metadata": {},
   "outputs": [],
   "source": [
    "import pandas as pd"
   ]
  },
  {
   "cell_type": "code",
   "execution_count": 2,
   "id": "0c0196b6-6c89-436d-904d-d4a33c58f39d",
   "metadata": {},
   "outputs": [
    {
     "name": "stdout",
     "output_type": "stream",
     "text": [
      "                                                  Name  \\\n",
      "0                        10-Day Green Smoothie Cleanse   \n",
      "1                                    11/22/63: A Novel   \n",
      "2              12 Rules for Life: An Antidote to Chaos   \n",
      "3                               1984 (Signet Classics)   \n",
      "4    5,000 Awesome Facts (About Everything!) (Natio...   \n",
      "..                                                 ...   \n",
      "545       Wrecking Ball (Diary of a Wimpy Kid Book 14)   \n",
      "546  You Are a Badass: How to Stop Doubting Your Gr...   \n",
      "547  You Are a Badass: How to Stop Doubting Your Gr...   \n",
      "548  You Are a Badass: How to Stop Doubting Your Gr...   \n",
      "549  You Are a Badass: How to Stop Doubting Your Gr...   \n",
      "\n",
      "                       Author  User Rating  Reviews  Price  Year        Genre  \n",
      "0                    JJ Smith          4.7    17350      8  2016  Non Fiction  \n",
      "1                Stephen King          4.6     2052     22  2011      Fiction  \n",
      "2          Jordan B. Peterson          4.7    18979     15  2018  Non Fiction  \n",
      "3               George Orwell          4.7    21424      6  2017      Fiction  \n",
      "4    National Geographic Kids          4.8     7665     12  2019  Non Fiction  \n",
      "..                        ...          ...      ...    ...   ...          ...  \n",
      "545               Jeff Kinney          4.9     9413      8  2019      Fiction  \n",
      "546               Jen Sincero          4.7    14331      8  2016  Non Fiction  \n",
      "547               Jen Sincero          4.7    14331      8  2017  Non Fiction  \n",
      "548               Jen Sincero          4.7    14331      8  2018  Non Fiction  \n",
      "549               Jen Sincero          4.7    14331      8  2019  Non Fiction  \n",
      "\n",
      "[550 rows x 7 columns]\n"
     ]
    }
   ],
   "source": [
    "#Прочитайте csv файл (використовуйте функцію read_csv)\n",
    "books = pd.read_csv(\"bestsellers with categories.csv\")\n",
    "print(books)"
   ]
  },
  {
   "cell_type": "code",
   "execution_count": 3,
   "id": "1f8cb60b-8a1b-4c6f-8d10-789fe25b341e",
   "metadata": {},
   "outputs": [
    {
     "name": "stdout",
     "output_type": "stream",
     "text": [
      "                                                Name  \\\n",
      "0                      10-Day Green Smoothie Cleanse   \n",
      "1                                  11/22/63: A Novel   \n",
      "2            12 Rules for Life: An Antidote to Chaos   \n",
      "3                             1984 (Signet Classics)   \n",
      "4  5,000 Awesome Facts (About Everything!) (Natio...   \n",
      "\n",
      "                     Author  User Rating  Reviews  Price  Year        Genre  \n",
      "0                  JJ Smith          4.7    17350      8  2016  Non Fiction  \n",
      "1              Stephen King          4.6     2052     22  2011      Fiction  \n",
      "2        Jordan B. Peterson          4.7    18979     15  2018  Non Fiction  \n",
      "3             George Orwell          4.7    21424      6  2017      Fiction  \n",
      "4  National Geographic Kids          4.8     7665     12  2019  Non Fiction  \n"
     ]
    }
   ],
   "source": [
    "#Виведіть перші п'ять рядків (використовується функція head)\n",
    "print(books.head())"
   ]
  },
  {
   "cell_type": "code",
   "execution_count": 77,
   "id": "5d2afd09-56e5-4a31-a1af-675b058fede3",
   "metadata": {},
   "outputs": [
    {
     "name": "stdout",
     "output_type": "stream",
     "text": [
      "550 7\n",
      "Про скільки книг зберігає дані датасет? -  550\n"
     ]
    }
   ],
   "source": [
    "#Виведіть розміри датасету (використовуйте атрибут shape)\n",
    "rows, cols = books.shape\n",
    "print(rows, cols)\n",
    "print(\"Про скільки книг зберігає дані датасет? - \", rows)"
   ]
  },
  {
   "cell_type": "code",
   "execution_count": 78,
   "id": "ba5f1034-bbbe-4b79-ad6b-07cbf5d06504",
   "metadata": {},
   "outputs": [
    {
     "name": "stdout",
     "output_type": "stream",
     "text": [
      "                                                  name  \\\n",
      "0                        10-Day Green Smoothie Cleanse   \n",
      "1                                    11/22/63: A Novel   \n",
      "2              12 Rules for Life: An Antidote to Chaos   \n",
      "3                               1984 (Signet Classics)   \n",
      "4    5,000 Awesome Facts (About Everything!) (Natio...   \n",
      "..                                                 ...   \n",
      "545       Wrecking Ball (Diary of a Wimpy Kid Book 14)   \n",
      "546  You Are a Badass: How to Stop Doubting Your Gr...   \n",
      "547  You Are a Badass: How to Stop Doubting Your Gr...   \n",
      "548  You Are a Badass: How to Stop Doubting Your Gr...   \n",
      "549  You Are a Badass: How to Stop Doubting Your Gr...   \n",
      "\n",
      "                       author  user_rating  reviews  price  year        genre  \n",
      "0                    JJ Smith          4.7    17350      8  2016  Non Fiction  \n",
      "1                Stephen King          4.6     2052     22  2011      Fiction  \n",
      "2          Jordan B. Peterson          4.7    18979     15  2018  Non Fiction  \n",
      "3               George Orwell          4.7    21424      6  2017      Fiction  \n",
      "4    National Geographic Kids          4.8     7665     12  2019  Non Fiction  \n",
      "..                        ...          ...      ...    ...   ...          ...  \n",
      "545               Jeff Kinney          4.9     9413      8  2019      Fiction  \n",
      "546               Jen Sincero          4.7    14331      8  2016  Non Fiction  \n",
      "547               Jen Sincero          4.7    14331      8  2017  Non Fiction  \n",
      "548               Jen Sincero          4.7    14331      8  2018  Non Fiction  \n",
      "549               Jen Sincero          4.7    14331      8  2019  Non Fiction  \n",
      "\n",
      "[550 rows x 7 columns]\n"
     ]
    }
   ],
   "source": [
    "#Давайте змінимо регістр на малий, а пробіл замінимо на нижнє підкреслення (snake_style). \n",
    "#А заразом і вивчимо корисний атрибут датафрейму: columns (можна просто присвоїти список нових імен цьому атрибуту)\n",
    "books.columns = ['name', 'author', 'user_rating', 'reviews', 'price', 'year', 'genre']\n",
    "print(books)"
   ]
  },
  {
   "cell_type": "code",
   "execution_count": 81,
   "id": "2764c2a1-3b40-484a-9360-bef57c3ab3cf",
   "metadata": {},
   "outputs": [
    {
     "name": "stdout",
     "output_type": "stream",
     "text": [
      "name           0\n",
      "author         0\n",
      "user_rating    0\n",
      "reviews        0\n",
      "price          0\n",
      "year           0\n",
      "genre          0\n",
      "dtype: int64\n",
      "Чи є в якихось змінних пропуски? - Hi\n",
      "Які є унікальні жанри? -  ['Non Fiction' 'Fiction']\n",
      "Максимальна ціна? -  105\n",
      "Мінімальна ціна? -  0\n",
      "Середня ціна? -  13.1\n",
      "Медіанна ціна? -  11.0\n"
     ]
    },
    {
     "data": {
      "image/png": "[encoded data removed]",
      "text/plain": [
       "<Figure size 640x480 with 1 Axes>"
      ]
     },
     "metadata": {},
     "output_type": "display_data"
    }
   ],
   "source": [
    "#Перевірте, чи у всіх рядків вистачає даних: виведіть кількість пропусків (na) у кожному зі стовпців (використовуйте функції isna та sum)\n",
    "print(books.isna().sum())\n",
    "\n",
    "#Відповідь: Чи є в якихось змінних пропуски? (Так / ні)\n",
    "if books.isna().sum().sum() == 0:\n",
    "    print('Чи є в якихось змінних пропуски? - Hi')\n",
    "else:\n",
    "    print('Чи є в якихось змінних пропуски? - Так')\n",
    "\n",
    "#Відповідь: Які є унікальні жанри?\n",
    "print('Які є унікальні жанри? - ', books['genre'].unique())\n",
    "\n",
    "#Тепер подивіться на розподіл цін: побудуйте діаграму (використовуйте kind='hist')\n",
    "books['price'].plot.hist(bins=10, alpha=1)\n",
    "\n",
    "#Відповідь: Максимальна ціна?\n",
    "print('Максимальна ціна? - ', books['price'].max())\n",
    "\n",
    "#Відповідь: Мінімальна ціна?\n",
    "print('Мінімальна ціна? - ', books['price'].min())\n",
    "\n",
    "#Відповідь: Середня ціна?\n",
    "print('Середня ціна? - ', books['price'].mean())\n",
    "\n",
    "#Відповідь: Медіанна ціна?\n",
    "print('Медіанна ціна? - ', books['price'].median())"
   ]
  },
  {
   "cell_type": "code",
   "execution_count": 117,
   "id": "08925fc4-b660-4544-b678-351b4c5cfddd",
   "metadata": {},
   "outputs": [
    {
     "name": "stdout",
     "output_type": "stream",
     "text": [
      "Який рейтинг у датасеті найвищий? -  4.9\n",
      "Скільки книг мають такий рейтинг? -  52\n",
      "Яка книга має найбільше відгуків? -  Where the Crawdads Sing\n",
      "З тих книг, що потрапили до Топ-50 у 2015 році, яка книга найдорожча? -  Publication Manual of the American Psychological Association, 6th Edition\n",
      "Скільки книг жанру Fiction потрапили до Топ-50 у 2010 році (використовуйте &)? -  20\n",
      "Скільки книг з рейтингом 4.9 потрапило до рейтингу у 2010 та 2011 роках? -  1\n",
      "Яка книга остання у відсортованому списку? Old School (Diary of a Wimpy Kid #10)\n"
     ]
    }
   ],
   "source": [
    "#Відповідь: Який рейтинг у датасеті найвищий?\n",
    "print('Який рейтинг у датасеті найвищий? - ', books['user_rating'].max())\n",
    "\n",
    "#Відповідь: Скільки книг мають такий рейтинг?\n",
    "print('Скільки книг мають такий рейтинг? - ', books['user_rating'][books['user_rating'] == books['user_rating'].max()].count())\n",
    "\n",
    "#Відповідь: Яка книга має найбільше відгуків?\n",
    "print('Яка книга має найбільше відгуків? - ', books['name'][books['reviews'] == books['reviews'].max()].item())\n",
    "\n",
    "#Відповідь: З тих книг, що потрапили до Топ-50 у 2015 році, яка книга найдорожча (можна використати проміжний датафрейм)?\n",
    "books_2015 = books[books['year'] == 2015]\n",
    "books_2015_max_price = books_2015['name'][books_2015['price'] == books_2015['price'].max()]\n",
    "print('З тих книг, що потрапили до Топ-50 у 2015 році, яка книга найдорожча? - ', books_2015_max_price.item())\n",
    "\n",
    "#Відповідь: Скільки книг жанру Fiction потрапили до Топ-50 у 2010 році (використовуйте &)?\n",
    "print('Скільки книг жанру Fiction потрапили до Топ-50 у 2010 році (використовуйте &)? - ', books['name'][(books['year'] == 2010) & (books['genre'] == 'Fiction')].count())\n",
    "\n",
    "#Відповідь: Скільки книг з рейтингом 4.9 потрапило до рейтингу у 2010 та 2011 роках (використовуйте | або функцію isin)?\n",
    "print('Скільки книг з рейтингом 4.9 потрапило до рейтингу у 2010 та 2011 роках? - ', books['name'][((books['year'] == 2010) | (books['year'] == 2011)) & (books['user_rating'] == 4.9)].count())\n",
    "\n",
    "#І насамкінець, давайте відсортуємо за зростанням ціни всі книги, які потрапили до рейтингу в 2015 році і коштують дешевше за 8 доларів (використовуйте функцію sort_values).\n",
    "#Відповідь: Яка книга остання у відсортованому списку?\n",
    "sorted_filtered_books = books[(books['year'] == 2015) & (books['price'] < 8)].sort_values(by = ['price'])\n",
    "print('Яка книга остання у відсортованому списку?', sorted_filtered_books['name'].tail(1).item())"
   ]
  },
  {
   "cell_type": "code",
   "execution_count": 151,
   "id": "73df93d7-d8cf-467e-af16-4eae4f160946",
   "metadata": {},
   "outputs": [
    {
     "name": "stdout",
     "output_type": "stream",
     "text": [
      "Максимальна ціна для жанру Fiction? -  82\n",
      "Мінімальна ціна для жанру Fiction? -  0\n",
      "Максимальна ціна для жанру Non Fiction? -  105\n",
      "Мінімальна ціна для жанру Non Fiction? -  0\n",
      "Cтворіть новий датафрейм, який вміщатиме кількість книг для кожного з авторів: \n",
      "                                  author  book_count\n",
      "120                         Jeff Kinney          12\n",
      "92                         Gary Chapman          11\n",
      "226                     Suzanne Collins          11\n",
      "197                        Rick Riordan          11\n",
      "11   American Psychological Association          10\n",
      "..                                  ...         ...\n",
      "61                          David Grann           1\n",
      "143                    Larry Schweikart           1\n",
      "62                     David McCullough           1\n",
      "141                     Khaled Hosseini           1\n",
      "171                      Muriel Barbery           1\n",
      "\n",
      "[248 rows x 2 columns]\n",
      "Якої розмірності вийшла таблиця? -  (248, 2)\n",
      "Який автор має найбільше книг? -  Jeff Kinney\n",
      "Скільки книг цього автора? -  12\n",
      "Cтворіть новий датафрейм, який буде вміщати середній рейтинг для кожного автора: \n",
      "                    author  avg_rating\n",
      "178        Patrick Thorpe         4.9\n",
      "146    Lin-Manuel Miranda         4.9\n",
      "41            Chip Gaines         4.9\n",
      "215  Sherri Duskey Rinker         4.9\n",
      "173        Nathan W. Pyle         4.9\n",
      "..                    ...         ...\n",
      "180         Paula Hawkins         4.1\n",
      "171        Muriel Barbery         4.0\n",
      "100         Gillian Flynn         4.0\n",
      "90                 Gallup         4.0\n",
      "71            Donna Tartt         3.9\n",
      "\n",
      "[248 rows x 2 columns]\n",
      "У якого автора середній рейтинг мінімальний? -  Donna Tartt\n",
      "Який у цього автора середній рейтинг? -  3.9\n",
      "З'єднайте останні два датафрейми так, щоб для кожного автора було видно кількість книг та середній рейтинг: \n",
      "                          author  book_count  avg_rating\n",
      "0              Abraham Verghese           2    4.600000\n",
      "1                Adam Gasiewski           1    4.400000\n",
      "2                 Adam Mansbach           1    4.800000\n",
      "3                     Adir Levy           1    4.800000\n",
      "4    Admiral William H. McRaven           1    4.700000\n",
      "..                          ...         ...         ...\n",
      "243             Walter Isaacson           3    4.566667\n",
      "244               William Davis           2    4.400000\n",
      "245            William P. Young           2    4.600000\n",
      "246            Wizards RPG Team           3    4.800000\n",
      "247                Zhi Gang Sha           2    4.600000\n",
      "\n",
      "[248 rows x 3 columns]\n",
      "                                 author  book_count  avg_rating\n",
      "171                      Muriel Barbery           1    4.000000\n",
      "43                         Chris Cleave           1    4.100000\n",
      "109                   Ian K. Smith M.D.           1    4.100000\n",
      "186                        Pierre Dukan           1    4.100000\n",
      "81                     Elizabeth Strout           1    4.200000\n",
      "..                                  ...         ...         ...\n",
      "11   American Psychological Association          10    4.500000\n",
      "226                     Suzanne Collins          11    4.663636\n",
      "92                         Gary Chapman          11    4.736364\n",
      "197                        Rick Riordan          11    4.772727\n",
      "120                         Jeff Kinney          12    4.800000\n",
      "\n",
      "[248 rows x 3 columns]\n",
      "Який автор перший у списку? -  Muriel Barbery\n"
     ]
    }
   ],
   "source": [
    "#Відповідь: Максимальна ціна для жанру Fiction\n",
    "print('Максимальна ціна для жанру Fiction? - ', books['price'][books['genre'] == 'Fiction'].agg('max'))\n",
    "\n",
    "#Відповідь: Мінімальна ціна для жанру Fiction\n",
    "print('Мінімальна ціна для жанру Fiction? - ', books['price'][books['genre'] == 'Fiction'].agg('min'))\n",
    "\n",
    "#Відповідь: Максимальна ціна для жанру Non Fiction\n",
    "print('Максимальна ціна для жанру Non Fiction? - ', books['price'][books['genre'] == 'Non Fiction'].agg('max'))\n",
    "\n",
    "#Відповідь: Мінімальна ціна для жанру Non Fiction\n",
    "print('Мінімальна ціна для жанру Non Fiction? - ', books['price'][books['genre'] == 'Non Fiction'].agg('min'))\n",
    "\n",
    "#Тепер створіть новий датафрейм, який вміщатиме кількість книг для кожного з авторів \n",
    "#(використовуйте функції groupby та agg, для підрахунку кількості використовуйте count).\n",
    "author_books_count = books.groupby('author').agg({'name': 'count'}).reset_index()\n",
    "author_books_count.columns = ['author', 'book_count']\n",
    "print('Cтворіть новий датафрейм, який вміщатиме кількість книг для кожного з авторів: \\n', author_books_count.sort_values(by='book_count', ascending=False))\n",
    "\n",
    "#Відповідь: Якої розмірності вийшла таблиця?\n",
    "print('Якої розмірності вийшла таблиця? - ', author_books_count.shape)\n",
    "\n",
    "#Відповідь: Який автор має найбільше книг?\n",
    "max_author_name = author_books_count['author'][author_books_count['book_count'] == author_books_count['book_count'].max()].item()\n",
    "print('Який автор має найбільше книг? - ', max_author_name)\n",
    "\n",
    "#Відповідь: Скільки книг цього автора?\n",
    "print('Скільки книг цього автора? - ', author_books_count['book_count'][author_books_count['author'] == max_author_name].item())\n",
    "\n",
    "#Тепер створіть другий датафрейм, який буде вміщати середній рейтинг для кожного автора \n",
    "#(використовуйте функції groupby та agg, для підрахунку середнього значення використовуйте mean). \n",
    "author_rating_avg = books.groupby('author').agg({'user_rating': 'mean'}).reset_index()\n",
    "author_rating_avg.columns = ['author', 'avg_rating']\n",
    "print('Cтворіть новий датафрейм, який буде вміщати середній рейтинг для кожного автора: \\n', author_rating_avg.sort_values(by='avg_rating', ascending=False))\n",
    "\n",
    "#Відповідь: У якого автора середній рейтинг мінімальний?\n",
    "min_rating_author = author_rating_avg['author'][author_rating_avg['avg_rating'] == author_rating_avg['avg_rating'].min()].item()\n",
    "print('У якого автора середній рейтинг мінімальний? - ', min_rating_author)\n",
    "\n",
    "#Відповідь: Який у цього автора середній рейтинг?\n",
    "print('Який у цього автора середній рейтинг? - ', author_rating_avg['avg_rating'][author_rating_avg['author'] == min_rating_author].item())\n",
    "\n",
    "#З'єднайте останні два датафрейми так, щоб для кожного автора було видно кількість книг та середній рейтинг\n",
    "result_frame = pd.concat([author_books_count, author_rating_avg['avg_rating']], axis=1)\n",
    "print('З\\'єднайте останні два датафрейми так, щоб для кожного автора було видно кількість книг та середній рейтинг: \\n', result_frame)\n",
    "\n",
    "#Відсортуйте датафрейм за зростаючою кількістю книг та зростаючим рейтингом (використовуйте функцію sort_values)\n",
    "sort_result_frame = result_frame.sort_values(by=['book_count', 'avg_rating'], ascending=[True, True])\n",
    "print(sort_result_frame)\n",
    "\n",
    "#Відповідь: Який автор перший у списку?\n",
    "print('Який автор перший у списку? - ', sort_result_frame.iloc[0]['author'])"
   ]
  }
 ],
 "metadata": {
  "kernelspec": {
   "display_name": "Python 3 (ipykernel)",
   "language": "python",
   "name": "python3"
  },
  "language_info": {
   "codemirror_mode": {
    "name": "ipython",
    "version": 3
   },
   "file_extension": ".py",
   "mimetype": "text/x-python",
   "name": "python",
   "nbconvert_exporter": "python",
   "pygments_lexer": "ipython3",
   "version": "3.10.8"
  }
 },
 "nbformat": 4,
 "nbformat_minor": 5
}
