{
 "cells": [
  {
   "cell_type": "code",
   "execution_count": 8,
   "id": "85c06657-4560-4fa8-a502-254d68b15675",
   "metadata": {},
   "outputs": [],
   "source": [
    "#Візьміть датасет movielens і побудуйте модель матричної факторизації. У даній бібліотеці він має назву SVD. \n",
    "#Підберіть найкращі параметри за допомогою крос-валідації, також поекспериментуйте з іншими алгоритмами \n",
    "#розрахунків (SVD++, NMF) і оберіть той, який буде оптимальним.\n",
    "\n",
    "#Підказки як саме побудувати дану модель ви знайдете в документації до даної бібліотеки."
   ]
  },
  {
   "cell_type": "code",
   "execution_count": 9,
   "id": "a97f51a1-898f-4889-bea6-14fadd981e47",
   "metadata": {},
   "outputs": [],
   "source": [
    "from surprise import Dataset\n",
    "from surprise import SVD, SVDpp, NMF\n",
    "from surprise.model_selection import cross_validate\n",
    "from surprise.model_selection import GridSearchCV\n",
    "from joblib import parallel_backend\n",
    "import numpy as np\n",
    "import pandas as pd"
   ]
  },
  {
   "cell_type": "code",
   "execution_count": 10,
   "id": "1b251098-812e-4c38-94e9-821ea74312f0",
   "metadata": {},
   "outputs": [],
   "source": [
    "def cross_validation_and_print(model, dataset, cv=5):\n",
    "    results = cross_validate(model, dataset, measures=['RMSE', 'MAE'], cv=cv, verbose=True)\n",
    "    for measure in ['test_rmse', 'test_mae']:\n",
    "        print(f\"{measure}: {np.round(results[measure].mean(), 4)}\")\n",
    "\n",
    "def perform_grid_search(model_class, dataset, param_grid, measures=['rmse', 'mae'], cv=5):\n",
    "    model = model_class()\n",
    "    cross_validation_and_print(model, dataset, cv=cv)\n",
    "    with parallel_backend('threading'):\n",
    "        grid_search = GridSearchCV(model_class, param_grid, measures=measures, cv=cv)\n",
    "        grid_search.fit(dataset)\n",
    "    return grid_search.best_params, grid_search.best_score\n",
    "\n",
    "def svd_method(dataset, param_grid):\n",
    "    return perform_grid_search(SVD, dataset, param_grid)\n",
    "\n",
    "def svd_pp_method(dataset, param_grid):\n",
    "    return perform_grid_search(SVDpp, dataset, param_grid)\n",
    "\n",
    "def nmf_method(dataset, param_grid):\n",
    "    return perform_grid_search(NMF, dataset, param_grid)"
   ]
  },
  {
   "cell_type": "code",
   "execution_count": 11,
   "id": "1b152e1a-f419-4a3e-bf4f-849705198b2e",
   "metadata": {},
   "outputs": [
    {
     "name": "stdout",
     "output_type": "stream",
     "text": [
      "Завантаження даних датасету...\n",
      "Дані успішно завантажені :)\n",
      "\n"
     ]
    }
   ],
   "source": [
    "print('Завантаження даних датасету...')\n",
    "data = Dataset.load_builtin('ml-100k')\n",
    "param_grid_svd_svdpp = {'n_factors': [50, 100, 150],\n",
    "            'n_epochs': [20, 30, 40],\n",
    "            'lr_all': [0.002, 0.005, 0.01],\n",
    "            'reg_all': [0.02, 0.04, 0.06]}\n",
    "\n",
    "param_grid_nmf = {'n_factors': [50, 100, 150],\n",
    "                'n_epochs': [20, 30, 40],\n",
    "                'reg_pu': [0.06, 0.08, 0.1],\n",
    "                'reg_qi': [0.06, 0.08, 0.1]}\n",
    "print('Дані успішно завантажені :)\\n')"
   ]
  },
  {
   "cell_type": "code",
   "execution_count": 5,
   "id": "8f9a7d32-e078-4a93-99cc-83d136d0b64e",
   "metadata": {},
   "outputs": [
    {
     "name": "stdout",
     "output_type": "stream",
     "text": [
      "Обрахунок параметрів для алгоритма SVD...\n",
      "Evaluating RMSE, MAE of algorithm SVD on 5 split(s).\n",
      "\n",
      "                  Fold 1  Fold 2  Fold 3  Fold 4  Fold 5  Mean    Std     \n",
      "RMSE (testset)    0.9312  0.9407  0.9343  0.9319  0.9424  0.9361  0.0046  \n",
      "MAE (testset)     0.7337  0.7408  0.7364  0.7354  0.7431  0.7379  0.0035  \n",
      "Fit time          0.91    1.04    0.90    0.87    0.87    0.92    0.06    \n",
      "Test time         0.14    0.12    0.09    0.14    0.08    0.12    0.03    \n",
      "test_rmse: 0.9361\n",
      "test_mae: 0.7379\n",
      "...виконано обрахунок параметрів для алгоритма SVD\n"
     ]
    }
   ],
   "source": [
    "print('Обрахунок параметрів для алгоритма SVD...')\n",
    "best_params_svd, best_score_svd = svd_method(data, param_grid_svd_svdpp)\n",
    "best_params_svd_df = pd.DataFrame(best_params_svd)\n",
    "best_score_svd_df = pd.DataFrame([best_score_svd], columns=['best_score'])\n",
    "print('...виконано обрахунок параметрів для алгоритма SVD')"
   ]
  },
  {
   "cell_type": "code",
   "execution_count": 6,
   "id": "45425057-60d5-4eee-a4ff-0b493b790ec1",
   "metadata": {},
   "outputs": [
    {
     "name": "stdout",
     "output_type": "stream",
     "text": [
      "Обрахунок параметрів для алгоритма NMF...\n",
      "Evaluating RMSE, MAE of algorithm NMF on 5 split(s).\n",
      "\n",
      "                  Fold 1  Fold 2  Fold 3  Fold 4  Fold 5  Mean    Std     \n",
      "RMSE (testset)    0.9599  0.9668  0.9733  0.9592  0.9668  0.9652  0.0052  \n",
      "MAE (testset)     0.7553  0.7620  0.7621  0.7539  0.7602  0.7587  0.0035  \n",
      "Fit time          1.24    1.19    1.21    1.01    1.16    1.16    0.08    \n",
      "Test time         0.10    0.13    0.10    0.11    0.13    0.11    0.01    \n",
      "test_rmse: 0.9652\n",
      "test_mae: 0.7587\n",
      "...виконано обрахунок параметрів для алгоритма NMF\n"
     ]
    }
   ],
   "source": [
    "print('Обрахунок параметрів для алгоритма NMF...')\n",
    "best_params_nmf, best_score_nmf = nmf_method(data, param_grid_nmf)\n",
    "best_params_nmf_df = pd.DataFrame(best_params_nmf)\n",
    "best_score_nmf_df = pd.DataFrame([best_score_nmf], columns=['best_score'])\n",
    "print('...виконано обрахунок параметрів для алгоритма NMF')"
   ]
  },
  {
   "cell_type": "code",
   "execution_count": null,
   "id": "a7923c07-5385-47ab-9227-363d2ad7e391",
   "metadata": {},
   "outputs": [
    {
     "name": "stdout",
     "output_type": "stream",
     "text": [
      "Обрахунок параметрів для алгоритма SVD++...\n",
      "Evaluating RMSE, MAE of algorithm SVDpp on 5 split(s).\n",
      "\n",
      "                  Fold 1  Fold 2  Fold 3  Fold 4  Fold 5  Mean    Std     \n",
      "RMSE (testset)    0.9211  0.9270  0.9171  0.9153  0.9195  0.9200  0.0041  \n",
      "MAE (testset)     0.7227  0.7255  0.7195  0.7146  0.7229  0.7210  0.0038  \n",
      "Fit time          18.93   17.26   19.05   17.44   17.94   18.13   0.74    \n",
      "Test time         2.53    2.60    2.50    2.53    2.66    2.57    0.06    \n",
      "test_rmse: 0.92\n",
      "test_mae: 0.721\n"
     ]
    }
   ],
   "source": [
    "print('Обрахунок параметрів для алгоритма SVD++...')\n",
    "best_params_svdpp, best_score_svdpp = svd_pp_method(data, param_grid_svd_svdpp)\n",
    "best_params_svdpp_df = pd.DataFrame(best_params_svdpp)\n",
    "best_score_svdpp_df = pd.DataFrame([best_score_svdpp], columns=['best_score'])\n",
    "print('...виконано обрахунок параметрів для алгоритма SVD++')"
   ]
  },
  {
   "cell_type": "code",
   "execution_count": null,
   "id": "27449b9c-7c19-40f4-a3fa-4eaeaff84e6b",
   "metadata": {},
   "outputs": [],
   "source": []
  }
 ],
 "metadata": {
  "kernelspec": {
   "display_name": "Python 3 (ipykernel)",
   "language": "python",
   "name": "python3"
  },
  "language_info": {
   "codemirror_mode": {
    "name": "ipython",
    "version": 3
   },
   "file_extension": ".py",
   "mimetype": "text/x-python",
   "name": "python",
   "nbconvert_exporter": "python",
   "pygments_lexer": "ipython3",
   "version": "3.10.8"
  }
 },
 "nbformat": 4,
 "nbformat_minor": 5
}
